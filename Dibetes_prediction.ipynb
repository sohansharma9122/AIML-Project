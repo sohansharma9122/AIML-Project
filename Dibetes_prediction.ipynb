{
 "cells": [
  {
   "cell_type": "markdown",
   "id": "045f3468-3bdb-4731-9294-1c8d5ddf6c5c",
   "metadata": {},
   "source": [
    "# Diabetes Prediction using Machine Learning"
   ]
  },
  {
   "cell_type": "raw",
   "id": "53690da7-3d93-4c0d-b09a-7422b4d6d94f",
   "metadata": {},
   "source": [
    "# Data ----> pima indian diabetes dataset\n",
    "~~~~~~~~~~~~~~~~~~~~~~~~~~~~~~~~~~~~~~~~~~~~~~~~~~\n",
    "\n",
    "it contains data of 768 people\n",
    "\n",
    "we have to develop an intelligent model which can predict whether a person will suffer from diabetes or not.\n",
    "\n",
    "During this project we also have to data preprocessing,cleaning, visulization etc. \n",
    "\n",
    "\n",
    "\n",
    "Fields description follow:\n",
    "~~~~~~~~~~~~~~~~~~~~~~~~~~~~~~~~~~~~\n",
    "\n",
    "Pregnancies:----> Number of times pregnant.\n",
    "Glucose:--------> Plasma glucose concentration a 2 hours in an oral glucose tolerance test.\n",
    "Blood Pressure:--> Diastolic blood pressure (mm Hg).\n",
    "Skin Thickness:--> Triceps skinfold thickness (mm).\n",
    "Insulin:----------> 2-Hour serum insulin (mu U/ml).\n",
    "BMI:---------------> Body mass index (weight in kg/(height in m)^2).\n",
    "Diabetes Pedigree Function:----> Diabetes pedigree function (a function which scores likelihood of diabetes based on family history).\n",
    "Age:---> Age (years).\n",
    "Outcome: 0 or 1, indicating absence or presence of diabetes."
   ]
  },
  {
   "cell_type": "code",
   "execution_count": 3,
   "id": "c03ad37d-50ce-403a-a74e-84aeca8b8673",
   "metadata": {},
   "outputs": [
    {
     "name": "stdout",
     "output_type": "stream",
     "text": [
      "Path to dataset files: C:\\Users\\HP\\.cache\\kagglehub\\datasets\\kumargh\\pimaindiansdiabetescsv\\versions\\1\n"
     ]
    }
   ],
   "source": [
    "import kagglehub\n",
    "\n",
    "# Download latest version\n",
    "path = kagglehub.dataset_download(\"kumargh/pimaindiansdiabetescsv\")\n",
    "\n",
    "print(\"Path to dataset files:\", path)\n"
   ]
  },
  {
   "cell_type": "code",
   "execution_count": 1,
   "id": "f365e588-43de-42fd-be74-71406b0cbbe8",
   "metadata": {},
   "outputs": [
    {
     "data": {
      "text/html": [
       "<div>\n",
       "<style scoped>\n",
       "    .dataframe tbody tr th:only-of-type {\n",
       "        vertical-align: middle;\n",
       "    }\n",
       "\n",
       "    .dataframe tbody tr th {\n",
       "        vertical-align: top;\n",
       "    }\n",
       "\n",
       "    .dataframe thead th {\n",
       "        text-align: right;\n",
       "    }\n",
       "</style>\n",
       "<table border=\"1\" class=\"dataframe\">\n",
       "  <thead>\n",
       "    <tr style=\"text-align: right;\">\n",
       "      <th></th>\n",
       "      <th>preg</th>\n",
       "      <th>glucose</th>\n",
       "      <th>bp</th>\n",
       "      <th>skin</th>\n",
       "      <th>insulin</th>\n",
       "      <th>bmi</th>\n",
       "      <th>pedigree</th>\n",
       "      <th>age</th>\n",
       "      <th>class</th>\n",
       "    </tr>\n",
       "  </thead>\n",
       "  <tbody>\n",
       "    <tr>\n",
       "      <th>0</th>\n",
       "      <td>6</td>\n",
       "      <td>148</td>\n",
       "      <td>72</td>\n",
       "      <td>35</td>\n",
       "      <td>0</td>\n",
       "      <td>33.6</td>\n",
       "      <td>0.627</td>\n",
       "      <td>50</td>\n",
       "      <td>1</td>\n",
       "    </tr>\n",
       "    <tr>\n",
       "      <th>1</th>\n",
       "      <td>1</td>\n",
       "      <td>85</td>\n",
       "      <td>66</td>\n",
       "      <td>29</td>\n",
       "      <td>0</td>\n",
       "      <td>26.6</td>\n",
       "      <td>0.351</td>\n",
       "      <td>31</td>\n",
       "      <td>0</td>\n",
       "    </tr>\n",
       "    <tr>\n",
       "      <th>2</th>\n",
       "      <td>8</td>\n",
       "      <td>183</td>\n",
       "      <td>64</td>\n",
       "      <td>0</td>\n",
       "      <td>0</td>\n",
       "      <td>23.3</td>\n",
       "      <td>0.672</td>\n",
       "      <td>32</td>\n",
       "      <td>1</td>\n",
       "    </tr>\n",
       "    <tr>\n",
       "      <th>3</th>\n",
       "      <td>1</td>\n",
       "      <td>89</td>\n",
       "      <td>66</td>\n",
       "      <td>23</td>\n",
       "      <td>94</td>\n",
       "      <td>28.1</td>\n",
       "      <td>0.167</td>\n",
       "      <td>21</td>\n",
       "      <td>0</td>\n",
       "    </tr>\n",
       "    <tr>\n",
       "      <th>4</th>\n",
       "      <td>0</td>\n",
       "      <td>137</td>\n",
       "      <td>40</td>\n",
       "      <td>35</td>\n",
       "      <td>168</td>\n",
       "      <td>43.1</td>\n",
       "      <td>2.288</td>\n",
       "      <td>33</td>\n",
       "      <td>1</td>\n",
       "    </tr>\n",
       "    <tr>\n",
       "      <th>...</th>\n",
       "      <td>...</td>\n",
       "      <td>...</td>\n",
       "      <td>...</td>\n",
       "      <td>...</td>\n",
       "      <td>...</td>\n",
       "      <td>...</td>\n",
       "      <td>...</td>\n",
       "      <td>...</td>\n",
       "      <td>...</td>\n",
       "    </tr>\n",
       "    <tr>\n",
       "      <th>763</th>\n",
       "      <td>10</td>\n",
       "      <td>101</td>\n",
       "      <td>76</td>\n",
       "      <td>48</td>\n",
       "      <td>180</td>\n",
       "      <td>32.9</td>\n",
       "      <td>0.171</td>\n",
       "      <td>63</td>\n",
       "      <td>0</td>\n",
       "    </tr>\n",
       "    <tr>\n",
       "      <th>764</th>\n",
       "      <td>2</td>\n",
       "      <td>122</td>\n",
       "      <td>70</td>\n",
       "      <td>27</td>\n",
       "      <td>0</td>\n",
       "      <td>36.8</td>\n",
       "      <td>0.340</td>\n",
       "      <td>27</td>\n",
       "      <td>0</td>\n",
       "    </tr>\n",
       "    <tr>\n",
       "      <th>765</th>\n",
       "      <td>5</td>\n",
       "      <td>121</td>\n",
       "      <td>72</td>\n",
       "      <td>23</td>\n",
       "      <td>112</td>\n",
       "      <td>26.2</td>\n",
       "      <td>0.245</td>\n",
       "      <td>30</td>\n",
       "      <td>0</td>\n",
       "    </tr>\n",
       "    <tr>\n",
       "      <th>766</th>\n",
       "      <td>1</td>\n",
       "      <td>126</td>\n",
       "      <td>60</td>\n",
       "      <td>0</td>\n",
       "      <td>0</td>\n",
       "      <td>30.1</td>\n",
       "      <td>0.349</td>\n",
       "      <td>47</td>\n",
       "      <td>1</td>\n",
       "    </tr>\n",
       "    <tr>\n",
       "      <th>767</th>\n",
       "      <td>1</td>\n",
       "      <td>93</td>\n",
       "      <td>70</td>\n",
       "      <td>31</td>\n",
       "      <td>0</td>\n",
       "      <td>30.4</td>\n",
       "      <td>0.315</td>\n",
       "      <td>23</td>\n",
       "      <td>0</td>\n",
       "    </tr>\n",
       "  </tbody>\n",
       "</table>\n",
       "<p>768 rows × 9 columns</p>\n",
       "</div>"
      ],
      "text/plain": [
       "     preg  glucose  bp  skin  insulin   bmi  pedigree  age  class\n",
       "0       6      148  72    35        0  33.6     0.627   50      1\n",
       "1       1       85  66    29        0  26.6     0.351   31      0\n",
       "2       8      183  64     0        0  23.3     0.672   32      1\n",
       "3       1       89  66    23       94  28.1     0.167   21      0\n",
       "4       0      137  40    35      168  43.1     2.288   33      1\n",
       "..    ...      ...  ..   ...      ...   ...       ...  ...    ...\n",
       "763    10      101  76    48      180  32.9     0.171   63      0\n",
       "764     2      122  70    27        0  36.8     0.340   27      0\n",
       "765     5      121  72    23      112  26.2     0.245   30      0\n",
       "766     1      126  60     0        0  30.1     0.349   47      1\n",
       "767     1       93  70    31        0  30.4     0.315   23      0\n",
       "\n",
       "[768 rows x 9 columns]"
      ]
     },
     "execution_count": 1,
     "metadata": {},
     "output_type": "execute_result"
    }
   ],
   "source": [
    "# load the pima data\n",
    "import pandas as pd\n",
    "df=pd.read_csv(r\"C:\\Users\\HP\\Desktop\\Diabetes project\\pima.csv\",names=[\"preg\",\"glucose\",\"bp\",\"skin\",\"insulin\",\"bmi\",\"pedigree\",\"age\",\"class\"])\n",
    "df"
   ]
  },
  {
   "cell_type": "code",
   "execution_count": 2,
   "id": "02dd623e-5f4f-42a4-a156-549f23d4c967",
   "metadata": {},
   "outputs": [
    {
     "data": {
      "text/plain": [
       "(768, 9)"
      ]
     },
     "execution_count": 2,
     "metadata": {},
     "output_type": "execute_result"
    }
   ],
   "source": [
    "df.shape"
   ]
  },
  {
   "cell_type": "code",
   "execution_count": 3,
   "id": "c0f78f6a-bfe2-48ce-925f-cc67d64d5491",
   "metadata": {},
   "outputs": [
    {
     "data": {
      "text/html": [
       "<div>\n",
       "<style scoped>\n",
       "    .dataframe tbody tr th:only-of-type {\n",
       "        vertical-align: middle;\n",
       "    }\n",
       "\n",
       "    .dataframe tbody tr th {\n",
       "        vertical-align: top;\n",
       "    }\n",
       "\n",
       "    .dataframe thead th {\n",
       "        text-align: right;\n",
       "    }\n",
       "</style>\n",
       "<table border=\"1\" class=\"dataframe\">\n",
       "  <thead>\n",
       "    <tr style=\"text-align: right;\">\n",
       "      <th></th>\n",
       "      <th>preg</th>\n",
       "      <th>glucose</th>\n",
       "      <th>bp</th>\n",
       "      <th>skin</th>\n",
       "      <th>insulin</th>\n",
       "      <th>bmi</th>\n",
       "      <th>pedigree</th>\n",
       "      <th>age</th>\n",
       "      <th>class</th>\n",
       "    </tr>\n",
       "  </thead>\n",
       "  <tbody>\n",
       "    <tr>\n",
       "      <th>0</th>\n",
       "      <td>6</td>\n",
       "      <td>148</td>\n",
       "      <td>72</td>\n",
       "      <td>35</td>\n",
       "      <td>0</td>\n",
       "      <td>33.6</td>\n",
       "      <td>0.627</td>\n",
       "      <td>50</td>\n",
       "      <td>1</td>\n",
       "    </tr>\n",
       "    <tr>\n",
       "      <th>1</th>\n",
       "      <td>1</td>\n",
       "      <td>85</td>\n",
       "      <td>66</td>\n",
       "      <td>29</td>\n",
       "      <td>0</td>\n",
       "      <td>26.6</td>\n",
       "      <td>0.351</td>\n",
       "      <td>31</td>\n",
       "      <td>0</td>\n",
       "    </tr>\n",
       "    <tr>\n",
       "      <th>2</th>\n",
       "      <td>8</td>\n",
       "      <td>183</td>\n",
       "      <td>64</td>\n",
       "      <td>0</td>\n",
       "      <td>0</td>\n",
       "      <td>23.3</td>\n",
       "      <td>0.672</td>\n",
       "      <td>32</td>\n",
       "      <td>1</td>\n",
       "    </tr>\n",
       "    <tr>\n",
       "      <th>3</th>\n",
       "      <td>1</td>\n",
       "      <td>89</td>\n",
       "      <td>66</td>\n",
       "      <td>23</td>\n",
       "      <td>94</td>\n",
       "      <td>28.1</td>\n",
       "      <td>0.167</td>\n",
       "      <td>21</td>\n",
       "      <td>0</td>\n",
       "    </tr>\n",
       "    <tr>\n",
       "      <th>4</th>\n",
       "      <td>0</td>\n",
       "      <td>137</td>\n",
       "      <td>40</td>\n",
       "      <td>35</td>\n",
       "      <td>168</td>\n",
       "      <td>43.1</td>\n",
       "      <td>2.288</td>\n",
       "      <td>33</td>\n",
       "      <td>1</td>\n",
       "    </tr>\n",
       "  </tbody>\n",
       "</table>\n",
       "</div>"
      ],
      "text/plain": [
       "   preg  glucose  bp  skin  insulin   bmi  pedigree  age  class\n",
       "0     6      148  72    35        0  33.6     0.627   50      1\n",
       "1     1       85  66    29        0  26.6     0.351   31      0\n",
       "2     8      183  64     0        0  23.3     0.672   32      1\n",
       "3     1       89  66    23       94  28.1     0.167   21      0\n",
       "4     0      137  40    35      168  43.1     2.288   33      1"
      ]
     },
     "execution_count": 3,
     "metadata": {},
     "output_type": "execute_result"
    }
   ],
   "source": [
    "# display 1st rows\n",
    "df.head()"
   ]
  },
  {
   "cell_type": "code",
   "execution_count": 4,
   "id": "d9241772-d52d-4021-8652-6cbd572b1e04",
   "metadata": {},
   "outputs": [
    {
     "data": {
      "text/html": [
       "<div>\n",
       "<style scoped>\n",
       "    .dataframe tbody tr th:only-of-type {\n",
       "        vertical-align: middle;\n",
       "    }\n",
       "\n",
       "    .dataframe tbody tr th {\n",
       "        vertical-align: top;\n",
       "    }\n",
       "\n",
       "    .dataframe thead th {\n",
       "        text-align: right;\n",
       "    }\n",
       "</style>\n",
       "<table border=\"1\" class=\"dataframe\">\n",
       "  <thead>\n",
       "    <tr style=\"text-align: right;\">\n",
       "      <th></th>\n",
       "      <th>preg</th>\n",
       "      <th>glucose</th>\n",
       "      <th>bp</th>\n",
       "      <th>skin</th>\n",
       "      <th>insulin</th>\n",
       "      <th>bmi</th>\n",
       "      <th>pedigree</th>\n",
       "      <th>age</th>\n",
       "      <th>class</th>\n",
       "    </tr>\n",
       "  </thead>\n",
       "  <tbody>\n",
       "    <tr>\n",
       "      <th>763</th>\n",
       "      <td>10</td>\n",
       "      <td>101</td>\n",
       "      <td>76</td>\n",
       "      <td>48</td>\n",
       "      <td>180</td>\n",
       "      <td>32.9</td>\n",
       "      <td>0.171</td>\n",
       "      <td>63</td>\n",
       "      <td>0</td>\n",
       "    </tr>\n",
       "    <tr>\n",
       "      <th>764</th>\n",
       "      <td>2</td>\n",
       "      <td>122</td>\n",
       "      <td>70</td>\n",
       "      <td>27</td>\n",
       "      <td>0</td>\n",
       "      <td>36.8</td>\n",
       "      <td>0.340</td>\n",
       "      <td>27</td>\n",
       "      <td>0</td>\n",
       "    </tr>\n",
       "    <tr>\n",
       "      <th>765</th>\n",
       "      <td>5</td>\n",
       "      <td>121</td>\n",
       "      <td>72</td>\n",
       "      <td>23</td>\n",
       "      <td>112</td>\n",
       "      <td>26.2</td>\n",
       "      <td>0.245</td>\n",
       "      <td>30</td>\n",
       "      <td>0</td>\n",
       "    </tr>\n",
       "    <tr>\n",
       "      <th>766</th>\n",
       "      <td>1</td>\n",
       "      <td>126</td>\n",
       "      <td>60</td>\n",
       "      <td>0</td>\n",
       "      <td>0</td>\n",
       "      <td>30.1</td>\n",
       "      <td>0.349</td>\n",
       "      <td>47</td>\n",
       "      <td>1</td>\n",
       "    </tr>\n",
       "    <tr>\n",
       "      <th>767</th>\n",
       "      <td>1</td>\n",
       "      <td>93</td>\n",
       "      <td>70</td>\n",
       "      <td>31</td>\n",
       "      <td>0</td>\n",
       "      <td>30.4</td>\n",
       "      <td>0.315</td>\n",
       "      <td>23</td>\n",
       "      <td>0</td>\n",
       "    </tr>\n",
       "  </tbody>\n",
       "</table>\n",
       "</div>"
      ],
      "text/plain": [
       "     preg  glucose  bp  skin  insulin   bmi  pedigree  age  class\n",
       "763    10      101  76    48      180  32.9     0.171   63      0\n",
       "764     2      122  70    27        0  36.8     0.340   27      0\n",
       "765     5      121  72    23      112  26.2     0.245   30      0\n",
       "766     1      126  60     0        0  30.1     0.349   47      1\n",
       "767     1       93  70    31        0  30.4     0.315   23      0"
      ]
     },
     "execution_count": 4,
     "metadata": {},
     "output_type": "execute_result"
    }
   ],
   "source": [
    "#  display last 5 rows\n",
    "df.tail()"
   ]
  },
  {
   "cell_type": "code",
   "execution_count": 5,
   "id": "d7195b8f-aea8-4dbd-b3eb-61096286de8e",
   "metadata": {},
   "outputs": [
    {
     "data": {
      "text/html": [
       "<div>\n",
       "<style scoped>\n",
       "    .dataframe tbody tr th:only-of-type {\n",
       "        vertical-align: middle;\n",
       "    }\n",
       "\n",
       "    .dataframe tbody tr th {\n",
       "        vertical-align: top;\n",
       "    }\n",
       "\n",
       "    .dataframe thead th {\n",
       "        text-align: right;\n",
       "    }\n",
       "</style>\n",
       "<table border=\"1\" class=\"dataframe\">\n",
       "  <thead>\n",
       "    <tr style=\"text-align: right;\">\n",
       "      <th></th>\n",
       "      <th>preg</th>\n",
       "      <th>glucose</th>\n",
       "      <th>bp</th>\n",
       "      <th>skin</th>\n",
       "      <th>insulin</th>\n",
       "      <th>bmi</th>\n",
       "      <th>pedigree</th>\n",
       "      <th>age</th>\n",
       "      <th>class</th>\n",
       "    </tr>\n",
       "  </thead>\n",
       "  <tbody>\n",
       "    <tr>\n",
       "      <th>119</th>\n",
       "      <td>4</td>\n",
       "      <td>99</td>\n",
       "      <td>76</td>\n",
       "      <td>15</td>\n",
       "      <td>51</td>\n",
       "      <td>23.2</td>\n",
       "      <td>0.223</td>\n",
       "      <td>21</td>\n",
       "      <td>0</td>\n",
       "    </tr>\n",
       "    <tr>\n",
       "      <th>597</th>\n",
       "      <td>1</td>\n",
       "      <td>89</td>\n",
       "      <td>24</td>\n",
       "      <td>19</td>\n",
       "      <td>25</td>\n",
       "      <td>27.8</td>\n",
       "      <td>0.559</td>\n",
       "      <td>21</td>\n",
       "      <td>0</td>\n",
       "    </tr>\n",
       "    <tr>\n",
       "      <th>539</th>\n",
       "      <td>3</td>\n",
       "      <td>129</td>\n",
       "      <td>92</td>\n",
       "      <td>49</td>\n",
       "      <td>155</td>\n",
       "      <td>36.4</td>\n",
       "      <td>0.968</td>\n",
       "      <td>32</td>\n",
       "      <td>1</td>\n",
       "    </tr>\n",
       "    <tr>\n",
       "      <th>757</th>\n",
       "      <td>0</td>\n",
       "      <td>123</td>\n",
       "      <td>72</td>\n",
       "      <td>0</td>\n",
       "      <td>0</td>\n",
       "      <td>36.3</td>\n",
       "      <td>0.258</td>\n",
       "      <td>52</td>\n",
       "      <td>1</td>\n",
       "    </tr>\n",
       "    <tr>\n",
       "      <th>444</th>\n",
       "      <td>4</td>\n",
       "      <td>117</td>\n",
       "      <td>62</td>\n",
       "      <td>12</td>\n",
       "      <td>0</td>\n",
       "      <td>29.7</td>\n",
       "      <td>0.380</td>\n",
       "      <td>30</td>\n",
       "      <td>1</td>\n",
       "    </tr>\n",
       "  </tbody>\n",
       "</table>\n",
       "</div>"
      ],
      "text/plain": [
       "     preg  glucose  bp  skin  insulin   bmi  pedigree  age  class\n",
       "119     4       99  76    15       51  23.2     0.223   21      0\n",
       "597     1       89  24    19       25  27.8     0.559   21      0\n",
       "539     3      129  92    49      155  36.4     0.968   32      1\n",
       "757     0      123  72     0        0  36.3     0.258   52      1\n",
       "444     4      117  62    12        0  29.7     0.380   30      1"
      ]
     },
     "execution_count": 5,
     "metadata": {},
     "output_type": "execute_result"
    }
   ],
   "source": [
    "# display 5 rows redomly\n",
    "df.sample(5)"
   ]
  },
  {
   "cell_type": "code",
   "execution_count": 6,
   "id": "06ab227d-fb3b-4fdd-80c2-955cafc14682",
   "metadata": {},
   "outputs": [
    {
     "data": {
      "text/plain": [
       "Index(['preg', 'glucose', 'bp', 'skin', 'insulin', 'bmi', 'pedigree', 'age',\n",
       "       'class'],\n",
       "      dtype='object')"
      ]
     },
     "execution_count": 6,
     "metadata": {},
     "output_type": "execute_result"
    }
   ],
   "source": [
    "df.columns\n"
   ]
  },
  {
   "cell_type": "code",
   "execution_count": 7,
   "id": "1760f215-cfa3-4005-9845-a1d9634d3f4e",
   "metadata": {},
   "outputs": [
    {
     "data": {
      "text/plain": [
       "class\n",
       "0    500\n",
       "1    268\n",
       "Name: count, dtype: int64"
      ]
     },
     "execution_count": 7,
     "metadata": {},
     "output_type": "execute_result"
    }
   ],
   "source": [
    "# display number of people with and without diabetes\n",
    "df['class'].value_counts()"
   ]
  },
  {
   "cell_type": "code",
   "execution_count": 8,
   "id": "88eb5c35-1f88-4d5b-8d7c-0231d20c7175",
   "metadata": {},
   "outputs": [
    {
     "data": {
      "text/plain": [
       "<Axes: xlabel='class', ylabel='count'>"
      ]
     },
     "execution_count": 8,
     "metadata": {},
     "output_type": "execute_result"
    },
    {
     "data": {
      "image/png": "[encoded data removed]",
      "text/plain": [
       "<Figure size 640x480 with 1 Axes>"
      ]
     },
     "metadata": {},
     "output_type": "display_data"
    }
   ],
   "source": [
    "# display this information in a bar chart\n",
    "import seaborn as sns\n",
    "sns.countplot(x=df['class'])"
   ]
  },
  {
   "cell_type": "code",
   "execution_count": 9,
   "id": "0e2ee297-96d3-4216-abef-af97307e4d7f",
   "metadata": {},
   "outputs": [
    {
     "data": {
      "image/png": "[encoded data removed]",
      "text/plain": [
       "<Figure size 640x480 with 1 Axes>"
      ]
     },
     "metadata": {},
     "output_type": "display_data"
    }
   ],
   "source": [
    "# display the above info in a pie chart\n",
    "import matplotlib.pyplot as plt\n",
    "plt.pie(df['class'].value_counts(),labels=['No','Yes'],autopct=\"%0.2f%%\")\n",
    "plt.show()"
   ]
  },
  {
   "cell_type": "code",
   "execution_count": 10,
   "id": "925336f7-faf4-4ed5-8794-986e0a786314",
   "metadata": {},
   "outputs": [
    {
     "data": {
      "text/plain": [
       "81"
      ]
     },
     "execution_count": 10,
     "metadata": {},
     "output_type": "execute_result"
    }
   ],
   "source": [
    "# display the maximum age\n",
    "df['age'].max()"
   ]
  },
  {
   "cell_type": "code",
   "execution_count": 11,
   "id": "5052e29f-87ad-4ad9-8022-0d35f631a696",
   "metadata": {},
   "outputs": [
    {
     "data": {
      "text/plain": [
       "21"
      ]
     },
     "execution_count": 11,
     "metadata": {},
     "output_type": "execute_result"
    }
   ],
   "source": [
    "# display the minimum age\n",
    "df['age'].min()"
   ]
  },
  {
   "cell_type": "code",
   "execution_count": 12,
   "id": "77bcf300-d162-4425-83da-02abf1e8f221",
   "metadata": {},
   "outputs": [
    {
     "data": {
      "text/plain": [
       "574"
      ]
     },
     "execution_count": 12,
     "metadata": {},
     "output_type": "execute_result"
    }
   ],
   "source": [
    "# how many people are there with age <=40 and\n",
    "len(df.loc[df['age']<=40])"
   ]
  },
  {
   "cell_type": "code",
   "execution_count": 13,
   "id": "e372a9e0-c62c-4696-8f86-4964305a1d82",
   "metadata": {},
   "outputs": [
    {
     "data": {
      "text/plain": [
       "194"
      ]
     },
     "execution_count": 13,
     "metadata": {},
     "output_type": "execute_result"
    }
   ],
   "source": [
    "\n",
    "# how many people are there with age >=41 and\n",
    "len(df.loc[df['age']>=41])"
   ]
  },
  {
   "cell_type": "code",
   "execution_count": 14,
   "id": "6f342766-3fd7-4e03-ab3c-4e477524a478",
   "metadata": {},
   "outputs": [
    {
     "data": {
      "text/plain": [
       "166"
      ]
     },
     "execution_count": 14,
     "metadata": {},
     "output_type": "execute_result"
    }
   ],
   "source": [
    "# how many people with age <=40 but suffering with diabetes\n",
    "len(df.loc[(df['age']<=40)&(df['class']==1)])\n",
    "                       "
   ]
  },
  {
   "cell_type": "code",
   "execution_count": 15,
   "id": "22ea1ee8-8e16-47f7-9f8d-5b7299c1c973",
   "metadata": {},
   "outputs": [
    {
     "data": {
      "text/plain": [
       "0.289198606271777"
      ]
     },
     "execution_count": 15,
     "metadata": {},
     "output_type": "execute_result"
    }
   ],
   "source": [
    "# percentage\n",
    "166/574"
   ]
  },
  {
   "cell_type": "code",
   "execution_count": 16,
   "id": "201d3fb0-2d98-4320-958c-d35b1d1e8ff1",
   "metadata": {},
   "outputs": [
    {
     "data": {
      "text/plain": [
       "102"
      ]
     },
     "execution_count": 16,
     "metadata": {},
     "output_type": "execute_result"
    }
   ],
   "source": [
    "# how many people with age >=41 but suffering with diabetes\n",
    "len(df.loc[(df['age']>40)&(df['class']==1)])"
   ]
  },
  {
   "cell_type": "code",
   "execution_count": 17,
   "id": "188de9b1-7e06-4a13-a3cf-a5ae7e57d2ec",
   "metadata": {},
   "outputs": [
    {
     "data": {
      "text/plain": [
       "0.5257731958762887"
      ]
     },
     "execution_count": 17,
     "metadata": {},
     "output_type": "execute_result"
    }
   ],
   "source": [
    "# percentage\n",
    "102/194"
   ]
  },
  {
   "cell_type": "code",
   "execution_count": 18,
   "id": "a25b1b82-6c02-4ba8-8838-3c71eb0dc05c",
   "metadata": {},
   "outputs": [
    {
     "data": {
      "text/plain": [
       "199"
      ]
     },
     "execution_count": 18,
     "metadata": {},
     "output_type": "execute_result"
    }
   ],
   "source": [
    "# display the maximum and minimum value of glucose\n",
    "df['glucose'].max()\n"
   ]
  },
  {
   "cell_type": "code",
   "execution_count": 19,
   "id": "3da8738c-fcd3-4323-bc7a-e593470be618",
   "metadata": {},
   "outputs": [
    {
     "data": {
      "text/plain": [
       "0"
      ]
     },
     "execution_count": 19,
     "metadata": {},
     "output_type": "execute_result"
    }
   ],
   "source": [
    "df['glucose'].min()"
   ]
  },
  {
   "cell_type": "raw",
   "id": "f2ed889a-1909-45e2-867b-32d5a1596ba3",
   "metadata": {},
   "source": [
    "# find out relationship of glucose with diabetes\n",
    "bellow 100 and above 100"
   ]
  },
  {
   "cell_type": "code",
   "execution_count": 22,
   "id": "a221f83b-7c3b-4aba-a4b1-22e2edd8c4a0",
   "metadata": {},
   "outputs": [
    {
     "data": {
      "text/plain": [
       "197"
      ]
     },
     "execution_count": 22,
     "metadata": {},
     "output_type": "execute_result"
    }
   ],
   "source": [
    "# no of people bellow glucose 100\n",
    "df.loc[df['glucose']<100].__len__()"
   ]
  },
  {
   "cell_type": "code",
   "execution_count": 23,
   "id": "46b78764-1b8c-4c53-8980-c40fc87de329",
   "metadata": {},
   "outputs": [
    {
     "data": {
      "text/plain": [
       "571"
      ]
     },
     "execution_count": 23,
     "metadata": {},
     "output_type": "execute_result"
    }
   ],
   "source": [
    "# no of people above glucose 100\n",
    "df.loc[df['glucose']>=100].__len__()"
   ]
  },
  {
   "cell_type": "code",
   "execution_count": 24,
   "id": "461070ca-72e2-4b40-a6bc-73d0bd3c34ad",
   "metadata": {},
   "outputs": [
    {
     "data": {
      "text/plain": [
       "16"
      ]
     },
     "execution_count": 24,
     "metadata": {},
     "output_type": "execute_result"
    }
   ],
   "source": [
    "# no of people glucose < 100 with have diabetes\n",
    "df.loc[(df['glucose']<100)&(df['class']==1)].__len__()"
   ]
  },
  {
   "cell_type": "code",
   "execution_count": 25,
   "id": "5df585b5-ac29-43e6-b8c3-8736a218575f",
   "metadata": {},
   "outputs": [
    {
     "data": {
      "text/plain": [
       "0.08121827411167512"
      ]
     },
     "execution_count": 25,
     "metadata": {},
     "output_type": "execute_result"
    }
   ],
   "source": [
    "# percentage\n",
    "16/197"
   ]
  },
  {
   "cell_type": "code",
   "execution_count": 26,
   "id": "81fb177d-1794-489b-b71b-24a0755d2ee9",
   "metadata": {},
   "outputs": [
    {
     "data": {
      "text/plain": [
       "252"
      ]
     },
     "execution_count": 26,
     "metadata": {},
     "output_type": "execute_result"
    }
   ],
   "source": [
    "# no of people glucose >= 100 with have diabetes\n",
    "df.loc[(df['glucose']>=100)&(df['class']==1)].__len__()"
   ]
  },
  {
   "cell_type": "code",
   "execution_count": 27,
   "id": "aafcdb49-39e0-4b7c-a922-bf2a2d7d225d",
   "metadata": {},
   "outputs": [
    {
     "data": {
      "text/plain": [
       "0.4413309982486865"
      ]
     },
     "execution_count": 27,
     "metadata": {},
     "output_type": "execute_result"
    }
   ],
   "source": [
    "# percentage\n",
    "252/571"
   ]
  },
  {
   "cell_type": "raw",
   "id": "8fa14097-4f32-4a91-9fa5-a7d64647c6a2",
   "metadata": {},
   "source": [
    "# Note : if glucose level more than 100 then chances of diabetes is more."
   ]
  },
  {
   "cell_type": "markdown",
   "id": "b154ecd1-226e-4416-9f15-86d105669eea",
   "metadata": {},
   "source": [
    "# Handle the missing values"
   ]
  },
  {
   "cell_type": "code",
   "execution_count": 28,
   "id": "8c5b053a-0bf5-49ff-9d1c-624b81493a0d",
   "metadata": {},
   "outputs": [
    {
     "data": {
      "text/plain": [
       "preg        0\n",
       "glucose     0\n",
       "bp          0\n",
       "skin        0\n",
       "insulin     0\n",
       "bmi         0\n",
       "pedigree    0\n",
       "age         0\n",
       "class       0\n",
       "dtype: int64"
      ]
     },
     "execution_count": 28,
     "metadata": {},
     "output_type": "execute_result"
    }
   ],
   "source": [
    "# find missing values\n",
    "df.isnull().sum()"
   ]
  },
  {
   "cell_type": "raw",
   "id": "d3980204-1c4a-429e-9dba-137274d9389a",
   "metadata": {},
   "source": [
    "# it tell the our data has no NaN values\n",
    "\n",
    "# during describe data set we found that minimum value of most of columns are zero .....ex  bp=0  which is not possible that\n",
    "means our missing value are represented hare by zero value except pregancy and class"
   ]
  },
  {
   "cell_type": "code",
   "execution_count": 29,
   "id": "6bf93454-c112-4dc1-8317-2f613d10b9c5",
   "metadata": {},
   "outputs": [
    {
     "data": {
      "text/plain": [
       "5"
      ]
     },
     "execution_count": 29,
     "metadata": {},
     "output_type": "execute_result"
    }
   ],
   "source": [
    "df.loc[df['glucose']==0].__len__()"
   ]
  },
  {
   "cell_type": "code",
   "execution_count": 30,
   "id": "a285e062-f7c5-4aa0-83d2-0bba79881679",
   "metadata": {},
   "outputs": [
    {
     "data": {
      "text/plain": [
       "35"
      ]
     },
     "execution_count": 30,
     "metadata": {},
     "output_type": "execute_result"
    }
   ],
   "source": [
    "df.loc[df['bp']==0].__len__()"
   ]
  },
  {
   "cell_type": "code",
   "execution_count": 31,
   "id": "381b7bfb-c8e2-40f1-b808-aae93070151d",
   "metadata": {},
   "outputs": [
    {
     "data": {
      "text/plain": [
       "227"
      ]
     },
     "execution_count": 31,
     "metadata": {},
     "output_type": "execute_result"
    }
   ],
   "source": [
    "df.loc[df['skin']==0].__len__()"
   ]
  },
  {
   "cell_type": "code",
   "execution_count": 32,
   "id": "df58f9e4-a205-41d6-af44-1a7b0521177c",
   "metadata": {},
   "outputs": [
    {
     "data": {
      "text/plain": [
       "374"
      ]
     },
     "execution_count": 32,
     "metadata": {},
     "output_type": "execute_result"
    }
   ],
   "source": [
    "df.loc[df['insulin']==0].__len__()"
   ]
  },
  {
   "cell_type": "code",
   "execution_count": 33,
   "id": "cf7655bf-a2d4-43ff-ab7b-e43c6168f29f",
   "metadata": {},
   "outputs": [
    {
     "data": {
      "text/plain": [
       "11"
      ]
     },
     "execution_count": 33,
     "metadata": {},
     "output_type": "execute_result"
    }
   ],
   "source": [
    "df.loc[df['bmi']==0].__len__()"
   ]
  },
  {
   "cell_type": "code",
   "execution_count": 34,
   "id": "cbff3619-f335-4e35-8964-9f852ae6205f",
   "metadata": {},
   "outputs": [
    {
     "data": {
      "text/plain": [
       "0"
      ]
     },
     "execution_count": 34,
     "metadata": {},
     "output_type": "execute_result"
    }
   ],
   "source": [
    "df.loc[df['pedigree']==0].__len__()"
   ]
  },
  {
   "cell_type": "code",
   "execution_count": 35,
   "id": "d502c452-78c3-493e-be56-b2097ebe398c",
   "metadata": {},
   "outputs": [
    {
     "data": {
      "text/plain": [
       "0"
      ]
     },
     "execution_count": 35,
     "metadata": {},
     "output_type": "execute_result"
    }
   ],
   "source": [
    "df.loc[df['age']==0].__len__()"
   ]
  },
  {
   "cell_type": "code",
   "execution_count": 36,
   "id": "109d5c30-e2c2-47ba-ad45-97c42cd7cd40",
   "metadata": {},
   "outputs": [],
   "source": [
    "df1=df[['glucose','bp','skin','insulin','bmi']]\n",
    "df2=df.drop(columns=['glucose','bp','skin','insulin','bmi'])"
   ]
  },
  {
   "cell_type": "code",
   "execution_count": 37,
   "id": "a1e8b02a-98e4-439b-b248-18853a3d35e9",
   "metadata": {},
   "outputs": [
    {
     "data": {
      "text/html": [
       "<div>\n",
       "<style scoped>\n",
       "    .dataframe tbody tr th:only-of-type {\n",
       "        vertical-align: middle;\n",
       "    }\n",
       "\n",
       "    .dataframe tbody tr th {\n",
       "        vertical-align: top;\n",
       "    }\n",
       "\n",
       "    .dataframe thead th {\n",
       "        text-align: right;\n",
       "    }\n",
       "</style>\n",
       "<table border=\"1\" class=\"dataframe\">\n",
       "  <thead>\n",
       "    <tr style=\"text-align: right;\">\n",
       "      <th></th>\n",
       "      <th>glucose</th>\n",
       "      <th>bp</th>\n",
       "      <th>skin</th>\n",
       "      <th>insulin</th>\n",
       "      <th>bmi</th>\n",
       "    </tr>\n",
       "  </thead>\n",
       "  <tbody>\n",
       "    <tr>\n",
       "      <th>0</th>\n",
       "      <td>148</td>\n",
       "      <td>72</td>\n",
       "      <td>35</td>\n",
       "      <td>0</td>\n",
       "      <td>33.6</td>\n",
       "    </tr>\n",
       "    <tr>\n",
       "      <th>1</th>\n",
       "      <td>85</td>\n",
       "      <td>66</td>\n",
       "      <td>29</td>\n",
       "      <td>0</td>\n",
       "      <td>26.6</td>\n",
       "    </tr>\n",
       "    <tr>\n",
       "      <th>2</th>\n",
       "      <td>183</td>\n",
       "      <td>64</td>\n",
       "      <td>0</td>\n",
       "      <td>0</td>\n",
       "      <td>23.3</td>\n",
       "    </tr>\n",
       "    <tr>\n",
       "      <th>3</th>\n",
       "      <td>89</td>\n",
       "      <td>66</td>\n",
       "      <td>23</td>\n",
       "      <td>94</td>\n",
       "      <td>28.1</td>\n",
       "    </tr>\n",
       "    <tr>\n",
       "      <th>4</th>\n",
       "      <td>137</td>\n",
       "      <td>40</td>\n",
       "      <td>35</td>\n",
       "      <td>168</td>\n",
       "      <td>43.1</td>\n",
       "    </tr>\n",
       "    <tr>\n",
       "      <th>...</th>\n",
       "      <td>...</td>\n",
       "      <td>...</td>\n",
       "      <td>...</td>\n",
       "      <td>...</td>\n",
       "      <td>...</td>\n",
       "    </tr>\n",
       "    <tr>\n",
       "      <th>763</th>\n",
       "      <td>101</td>\n",
       "      <td>76</td>\n",
       "      <td>48</td>\n",
       "      <td>180</td>\n",
       "      <td>32.9</td>\n",
       "    </tr>\n",
       "    <tr>\n",
       "      <th>764</th>\n",
       "      <td>122</td>\n",
       "      <td>70</td>\n",
       "      <td>27</td>\n",
       "      <td>0</td>\n",
       "      <td>36.8</td>\n",
       "    </tr>\n",
       "    <tr>\n",
       "      <th>765</th>\n",
       "      <td>121</td>\n",
       "      <td>72</td>\n",
       "      <td>23</td>\n",
       "      <td>112</td>\n",
       "      <td>26.2</td>\n",
       "    </tr>\n",
       "    <tr>\n",
       "      <th>766</th>\n",
       "      <td>126</td>\n",
       "      <td>60</td>\n",
       "      <td>0</td>\n",
       "      <td>0</td>\n",
       "      <td>30.1</td>\n",
       "    </tr>\n",
       "    <tr>\n",
       "      <th>767</th>\n",
       "      <td>93</td>\n",
       "      <td>70</td>\n",
       "      <td>31</td>\n",
       "      <td>0</td>\n",
       "      <td>30.4</td>\n",
       "    </tr>\n",
       "  </tbody>\n",
       "</table>\n",
       "<p>768 rows × 5 columns</p>\n",
       "</div>"
      ],
      "text/plain": [
       "     glucose  bp  skin  insulin   bmi\n",
       "0        148  72    35        0  33.6\n",
       "1         85  66    29        0  26.6\n",
       "2        183  64     0        0  23.3\n",
       "3         89  66    23       94  28.1\n",
       "4        137  40    35      168  43.1\n",
       "..       ...  ..   ...      ...   ...\n",
       "763      101  76    48      180  32.9\n",
       "764      122  70    27        0  36.8\n",
       "765      121  72    23      112  26.2\n",
       "766      126  60     0        0  30.1\n",
       "767       93  70    31        0  30.4\n",
       "\n",
       "[768 rows x 5 columns]"
      ]
     },
     "execution_count": 37,
     "metadata": {},
     "output_type": "execute_result"
    }
   ],
   "source": [
    "df1"
   ]
  },
  {
   "cell_type": "code",
   "execution_count": 38,
   "id": "84f515f2-5bf8-448c-83ad-a2d282b2f540",
   "metadata": {},
   "outputs": [
    {
     "data": {
      "text/html": [
       "<div>\n",
       "<style scoped>\n",
       "    .dataframe tbody tr th:only-of-type {\n",
       "        vertical-align: middle;\n",
       "    }\n",
       "\n",
       "    .dataframe tbody tr th {\n",
       "        vertical-align: top;\n",
       "    }\n",
       "\n",
       "    .dataframe thead th {\n",
       "        text-align: right;\n",
       "    }\n",
       "</style>\n",
       "<table border=\"1\" class=\"dataframe\">\n",
       "  <thead>\n",
       "    <tr style=\"text-align: right;\">\n",
       "      <th></th>\n",
       "      <th>preg</th>\n",
       "      <th>pedigree</th>\n",
       "      <th>age</th>\n",
       "      <th>class</th>\n",
       "    </tr>\n",
       "  </thead>\n",
       "  <tbody>\n",
       "    <tr>\n",
       "      <th>0</th>\n",
       "      <td>6</td>\n",
       "      <td>0.627</td>\n",
       "      <td>50</td>\n",
       "      <td>1</td>\n",
       "    </tr>\n",
       "    <tr>\n",
       "      <th>1</th>\n",
       "      <td>1</td>\n",
       "      <td>0.351</td>\n",
       "      <td>31</td>\n",
       "      <td>0</td>\n",
       "    </tr>\n",
       "    <tr>\n",
       "      <th>2</th>\n",
       "      <td>8</td>\n",
       "      <td>0.672</td>\n",
       "      <td>32</td>\n",
       "      <td>1</td>\n",
       "    </tr>\n",
       "    <tr>\n",
       "      <th>3</th>\n",
       "      <td>1</td>\n",
       "      <td>0.167</td>\n",
       "      <td>21</td>\n",
       "      <td>0</td>\n",
       "    </tr>\n",
       "    <tr>\n",
       "      <th>4</th>\n",
       "      <td>0</td>\n",
       "      <td>2.288</td>\n",
       "      <td>33</td>\n",
       "      <td>1</td>\n",
       "    </tr>\n",
       "    <tr>\n",
       "      <th>...</th>\n",
       "      <td>...</td>\n",
       "      <td>...</td>\n",
       "      <td>...</td>\n",
       "      <td>...</td>\n",
       "    </tr>\n",
       "    <tr>\n",
       "      <th>763</th>\n",
       "      <td>10</td>\n",
       "      <td>0.171</td>\n",
       "      <td>63</td>\n",
       "      <td>0</td>\n",
       "    </tr>\n",
       "    <tr>\n",
       "      <th>764</th>\n",
       "      <td>2</td>\n",
       "      <td>0.340</td>\n",
       "      <td>27</td>\n",
       "      <td>0</td>\n",
       "    </tr>\n",
       "    <tr>\n",
       "      <th>765</th>\n",
       "      <td>5</td>\n",
       "      <td>0.245</td>\n",
       "      <td>30</td>\n",
       "      <td>0</td>\n",
       "    </tr>\n",
       "    <tr>\n",
       "      <th>766</th>\n",
       "      <td>1</td>\n",
       "      <td>0.349</td>\n",
       "      <td>47</td>\n",
       "      <td>1</td>\n",
       "    </tr>\n",
       "    <tr>\n",
       "      <th>767</th>\n",
       "      <td>1</td>\n",
       "      <td>0.315</td>\n",
       "      <td>23</td>\n",
       "      <td>0</td>\n",
       "    </tr>\n",
       "  </tbody>\n",
       "</table>\n",
       "<p>768 rows × 4 columns</p>\n",
       "</div>"
      ],
      "text/plain": [
       "     preg  pedigree  age  class\n",
       "0       6     0.627   50      1\n",
       "1       1     0.351   31      0\n",
       "2       8     0.672   32      1\n",
       "3       1     0.167   21      0\n",
       "4       0     2.288   33      1\n",
       "..    ...       ...  ...    ...\n",
       "763    10     0.171   63      0\n",
       "764     2     0.340   27      0\n",
       "765     5     0.245   30      0\n",
       "766     1     0.349   47      1\n",
       "767     1     0.315   23      0\n",
       "\n",
       "[768 rows x 4 columns]"
      ]
     },
     "execution_count": 38,
     "metadata": {},
     "output_type": "execute_result"
    }
   ],
   "source": [
    "df2"
   ]
  },
  {
   "cell_type": "code",
   "execution_count": 39,
   "id": "90ba47ce-776d-46f2-8b9f-7c3bfec86b40",
   "metadata": {},
   "outputs": [
    {
     "name": "stderr",
     "output_type": "stream",
     "text": [
      "C:\\Users\\HP\\AppData\\Local\\Temp\\ipykernel_15852\\1917349144.py:3: SettingWithCopyWarning: \n",
      "A value is trying to be set on a copy of a slice from a DataFrame\n",
      "\n",
      "See the caveats in the documentation: https://pandas.pydata.org/pandas-docs/stable/user_guide/indexing.html#returning-a-view-versus-a-copy\n",
      "  df1.replace(0,np.NaN,inplace=True)\n"
     ]
    },
    {
     "data": {
      "text/html": [
       "<div>\n",
       "<style scoped>\n",
       "    .dataframe tbody tr th:only-of-type {\n",
       "        vertical-align: middle;\n",
       "    }\n",
       "\n",
       "    .dataframe tbody tr th {\n",
       "        vertical-align: top;\n",
       "    }\n",
       "\n",
       "    .dataframe thead th {\n",
       "        text-align: right;\n",
       "    }\n",
       "</style>\n",
       "<table border=\"1\" class=\"dataframe\">\n",
       "  <thead>\n",
       "    <tr style=\"text-align: right;\">\n",
       "      <th></th>\n",
       "      <th>glucose</th>\n",
       "      <th>bp</th>\n",
       "      <th>skin</th>\n",
       "      <th>insulin</th>\n",
       "      <th>bmi</th>\n",
       "    </tr>\n",
       "  </thead>\n",
       "  <tbody>\n",
       "    <tr>\n",
       "      <th>0</th>\n",
       "      <td>148.0</td>\n",
       "      <td>72.0</td>\n",
       "      <td>35.0</td>\n",
       "      <td>NaN</td>\n",
       "      <td>33.6</td>\n",
       "    </tr>\n",
       "    <tr>\n",
       "      <th>1</th>\n",
       "      <td>85.0</td>\n",
       "      <td>66.0</td>\n",
       "      <td>29.0</td>\n",
       "      <td>NaN</td>\n",
       "      <td>26.6</td>\n",
       "    </tr>\n",
       "    <tr>\n",
       "      <th>2</th>\n",
       "      <td>183.0</td>\n",
       "      <td>64.0</td>\n",
       "      <td>NaN</td>\n",
       "      <td>NaN</td>\n",
       "      <td>23.3</td>\n",
       "    </tr>\n",
       "    <tr>\n",
       "      <th>3</th>\n",
       "      <td>89.0</td>\n",
       "      <td>66.0</td>\n",
       "      <td>23.0</td>\n",
       "      <td>94.0</td>\n",
       "      <td>28.1</td>\n",
       "    </tr>\n",
       "    <tr>\n",
       "      <th>4</th>\n",
       "      <td>137.0</td>\n",
       "      <td>40.0</td>\n",
       "      <td>35.0</td>\n",
       "      <td>168.0</td>\n",
       "      <td>43.1</td>\n",
       "    </tr>\n",
       "    <tr>\n",
       "      <th>...</th>\n",
       "      <td>...</td>\n",
       "      <td>...</td>\n",
       "      <td>...</td>\n",
       "      <td>...</td>\n",
       "      <td>...</td>\n",
       "    </tr>\n",
       "    <tr>\n",
       "      <th>763</th>\n",
       "      <td>101.0</td>\n",
       "      <td>76.0</td>\n",
       "      <td>48.0</td>\n",
       "      <td>180.0</td>\n",
       "      <td>32.9</td>\n",
       "    </tr>\n",
       "    <tr>\n",
       "      <th>764</th>\n",
       "      <td>122.0</td>\n",
       "      <td>70.0</td>\n",
       "      <td>27.0</td>\n",
       "      <td>NaN</td>\n",
       "      <td>36.8</td>\n",
       "    </tr>\n",
       "    <tr>\n",
       "      <th>765</th>\n",
       "      <td>121.0</td>\n",
       "      <td>72.0</td>\n",
       "      <td>23.0</td>\n",
       "      <td>112.0</td>\n",
       "      <td>26.2</td>\n",
       "    </tr>\n",
       "    <tr>\n",
       "      <th>766</th>\n",
       "      <td>126.0</td>\n",
       "      <td>60.0</td>\n",
       "      <td>NaN</td>\n",
       "      <td>NaN</td>\n",
       "      <td>30.1</td>\n",
       "    </tr>\n",
       "    <tr>\n",
       "      <th>767</th>\n",
       "      <td>93.0</td>\n",
       "      <td>70.0</td>\n",
       "      <td>31.0</td>\n",
       "      <td>NaN</td>\n",
       "      <td>30.4</td>\n",
       "    </tr>\n",
       "  </tbody>\n",
       "</table>\n",
       "<p>768 rows × 5 columns</p>\n",
       "</div>"
      ],
      "text/plain": [
       "     glucose    bp  skin  insulin   bmi\n",
       "0      148.0  72.0  35.0      NaN  33.6\n",
       "1       85.0  66.0  29.0      NaN  26.6\n",
       "2      183.0  64.0   NaN      NaN  23.3\n",
       "3       89.0  66.0  23.0     94.0  28.1\n",
       "4      137.0  40.0  35.0    168.0  43.1\n",
       "..       ...   ...   ...      ...   ...\n",
       "763    101.0  76.0  48.0    180.0  32.9\n",
       "764    122.0  70.0  27.0      NaN  36.8\n",
       "765    121.0  72.0  23.0    112.0  26.2\n",
       "766    126.0  60.0   NaN      NaN  30.1\n",
       "767     93.0  70.0  31.0      NaN  30.4\n",
       "\n",
       "[768 rows x 5 columns]"
      ]
     },
     "execution_count": 39,
     "metadata": {},
     "output_type": "execute_result"
    }
   ],
   "source": [
    "# convert the zero values in df1 to NaN\n",
    "import numpy as np\n",
    "df1.replace(0,np.NaN,inplace=True)\n",
    "df1"
   ]
  },
  {
   "cell_type": "code",
   "execution_count": 40,
   "id": "0ff8365e-bab5-4088-93cd-9adc1d9bdd62",
   "metadata": {},
   "outputs": [
    {
     "data": {
      "text/plain": [
       "glucose      5\n",
       "bp          35\n",
       "skin       227\n",
       "insulin    374\n",
       "bmi         11\n",
       "dtype: int64"
      ]
     },
     "execution_count": 40,
     "metadata": {},
     "output_type": "execute_result"
    }
   ],
   "source": [
    "df1.isnull().sum()  # missing values"
   ]
  },
  {
   "cell_type": "code",
   "execution_count": 41,
   "id": "69539e48-a179-4adc-a8eb-9be885217417",
   "metadata": {},
   "outputs": [
    {
     "name": "stderr",
     "output_type": "stream",
     "text": [
      "C:\\Users\\HP\\AppData\\Local\\Temp\\ipykernel_15852\\3775048490.py:2: SettingWithCopyWarning: \n",
      "A value is trying to be set on a copy of a slice from a DataFrame\n",
      "\n",
      "See the caveats in the documentation: https://pandas.pydata.org/pandas-docs/stable/user_guide/indexing.html#returning-a-view-versus-a-copy\n",
      "  df1.fillna(df1.mean(),inplace=True)\n"
     ]
    },
    {
     "data": {
      "text/plain": [
       "glucose    0\n",
       "bp         0\n",
       "skin       0\n",
       "insulin    0\n",
       "bmi        0\n",
       "dtype: int64"
      ]
     },
     "execution_count": 41,
     "metadata": {},
     "output_type": "execute_result"
    }
   ],
   "source": [
    "# fill the missing values by the mean value of specific column\n",
    "df1.fillna(df1.mean(),inplace=True)\n",
    "df1.isnull().sum()"
   ]
  },
  {
   "cell_type": "code",
   "execution_count": 42,
   "id": "d4e6707a-fe51-4134-917d-d2b10f903c1f",
   "metadata": {},
   "outputs": [
    {
     "data": {
      "text/html": [
       "<div>\n",
       "<style scoped>\n",
       "    .dataframe tbody tr th:only-of-type {\n",
       "        vertical-align: middle;\n",
       "    }\n",
       "\n",
       "    .dataframe tbody tr th {\n",
       "        vertical-align: top;\n",
       "    }\n",
       "\n",
       "    .dataframe thead th {\n",
       "        text-align: right;\n",
       "    }\n",
       "</style>\n",
       "<table border=\"1\" class=\"dataframe\">\n",
       "  <thead>\n",
       "    <tr style=\"text-align: right;\">\n",
       "      <th></th>\n",
       "      <th>glucose</th>\n",
       "      <th>bp</th>\n",
       "      <th>skin</th>\n",
       "      <th>insulin</th>\n",
       "      <th>bmi</th>\n",
       "      <th>preg</th>\n",
       "      <th>pedigree</th>\n",
       "      <th>age</th>\n",
       "      <th>class</th>\n",
       "    </tr>\n",
       "  </thead>\n",
       "  <tbody>\n",
       "    <tr>\n",
       "      <th>0</th>\n",
       "      <td>148.0</td>\n",
       "      <td>72.0</td>\n",
       "      <td>35.00000</td>\n",
       "      <td>155.548223</td>\n",
       "      <td>33.6</td>\n",
       "      <td>6</td>\n",
       "      <td>0.627</td>\n",
       "      <td>50</td>\n",
       "      <td>1</td>\n",
       "    </tr>\n",
       "    <tr>\n",
       "      <th>1</th>\n",
       "      <td>85.0</td>\n",
       "      <td>66.0</td>\n",
       "      <td>29.00000</td>\n",
       "      <td>155.548223</td>\n",
       "      <td>26.6</td>\n",
       "      <td>1</td>\n",
       "      <td>0.351</td>\n",
       "      <td>31</td>\n",
       "      <td>0</td>\n",
       "    </tr>\n",
       "    <tr>\n",
       "      <th>2</th>\n",
       "      <td>183.0</td>\n",
       "      <td>64.0</td>\n",
       "      <td>29.15342</td>\n",
       "      <td>155.548223</td>\n",
       "      <td>23.3</td>\n",
       "      <td>8</td>\n",
       "      <td>0.672</td>\n",
       "      <td>32</td>\n",
       "      <td>1</td>\n",
       "    </tr>\n",
       "    <tr>\n",
       "      <th>3</th>\n",
       "      <td>89.0</td>\n",
       "      <td>66.0</td>\n",
       "      <td>23.00000</td>\n",
       "      <td>94.000000</td>\n",
       "      <td>28.1</td>\n",
       "      <td>1</td>\n",
       "      <td>0.167</td>\n",
       "      <td>21</td>\n",
       "      <td>0</td>\n",
       "    </tr>\n",
       "    <tr>\n",
       "      <th>4</th>\n",
       "      <td>137.0</td>\n",
       "      <td>40.0</td>\n",
       "      <td>35.00000</td>\n",
       "      <td>168.000000</td>\n",
       "      <td>43.1</td>\n",
       "      <td>0</td>\n",
       "      <td>2.288</td>\n",
       "      <td>33</td>\n",
       "      <td>1</td>\n",
       "    </tr>\n",
       "    <tr>\n",
       "      <th>...</th>\n",
       "      <td>...</td>\n",
       "      <td>...</td>\n",
       "      <td>...</td>\n",
       "      <td>...</td>\n",
       "      <td>...</td>\n",
       "      <td>...</td>\n",
       "      <td>...</td>\n",
       "      <td>...</td>\n",
       "      <td>...</td>\n",
       "    </tr>\n",
       "    <tr>\n",
       "      <th>763</th>\n",
       "      <td>101.0</td>\n",
       "      <td>76.0</td>\n",
       "      <td>48.00000</td>\n",
       "      <td>180.000000</td>\n",
       "      <td>32.9</td>\n",
       "      <td>10</td>\n",
       "      <td>0.171</td>\n",
       "      <td>63</td>\n",
       "      <td>0</td>\n",
       "    </tr>\n",
       "    <tr>\n",
       "      <th>764</th>\n",
       "      <td>122.0</td>\n",
       "      <td>70.0</td>\n",
       "      <td>27.00000</td>\n",
       "      <td>155.548223</td>\n",
       "      <td>36.8</td>\n",
       "      <td>2</td>\n",
       "      <td>0.340</td>\n",
       "      <td>27</td>\n",
       "      <td>0</td>\n",
       "    </tr>\n",
       "    <tr>\n",
       "      <th>765</th>\n",
       "      <td>121.0</td>\n",
       "      <td>72.0</td>\n",
       "      <td>23.00000</td>\n",
       "      <td>112.000000</td>\n",
       "      <td>26.2</td>\n",
       "      <td>5</td>\n",
       "      <td>0.245</td>\n",
       "      <td>30</td>\n",
       "      <td>0</td>\n",
       "    </tr>\n",
       "    <tr>\n",
       "      <th>766</th>\n",
       "      <td>126.0</td>\n",
       "      <td>60.0</td>\n",
       "      <td>29.15342</td>\n",
       "      <td>155.548223</td>\n",
       "      <td>30.1</td>\n",
       "      <td>1</td>\n",
       "      <td>0.349</td>\n",
       "      <td>47</td>\n",
       "      <td>1</td>\n",
       "    </tr>\n",
       "    <tr>\n",
       "      <th>767</th>\n",
       "      <td>93.0</td>\n",
       "      <td>70.0</td>\n",
       "      <td>31.00000</td>\n",
       "      <td>155.548223</td>\n",
       "      <td>30.4</td>\n",
       "      <td>1</td>\n",
       "      <td>0.315</td>\n",
       "      <td>23</td>\n",
       "      <td>0</td>\n",
       "    </tr>\n",
       "  </tbody>\n",
       "</table>\n",
       "<p>768 rows × 9 columns</p>\n",
       "</div>"
      ],
      "text/plain": [
       "     glucose    bp      skin     insulin   bmi  preg  pedigree  age  class\n",
       "0      148.0  72.0  35.00000  155.548223  33.6     6     0.627   50      1\n",
       "1       85.0  66.0  29.00000  155.548223  26.6     1     0.351   31      0\n",
       "2      183.0  64.0  29.15342  155.548223  23.3     8     0.672   32      1\n",
       "3       89.0  66.0  23.00000   94.000000  28.1     1     0.167   21      0\n",
       "4      137.0  40.0  35.00000  168.000000  43.1     0     2.288   33      1\n",
       "..       ...   ...       ...         ...   ...   ...       ...  ...    ...\n",
       "763    101.0  76.0  48.00000  180.000000  32.9    10     0.171   63      0\n",
       "764    122.0  70.0  27.00000  155.548223  36.8     2     0.340   27      0\n",
       "765    121.0  72.0  23.00000  112.000000  26.2     5     0.245   30      0\n",
       "766    126.0  60.0  29.15342  155.548223  30.1     1     0.349   47      1\n",
       "767     93.0  70.0  31.00000  155.548223  30.4     1     0.315   23      0\n",
       "\n",
       "[768 rows x 9 columns]"
      ]
     },
     "execution_count": 42,
     "metadata": {},
     "output_type": "execute_result"
    }
   ],
   "source": [
    "# concat df2 with df1 \n",
    "import pandas as pd\n",
    "df3=pd.concat([df1,df2],axis=1)\n",
    "df3\n"
   ]
  },
  {
   "cell_type": "code",
   "execution_count": 43,
   "id": "da955b86-2fe8-41e1-aa9b-1234a7999399",
   "metadata": {},
   "outputs": [
    {
     "data": {
      "text/plain": [
       "glucose     0\n",
       "bp          0\n",
       "skin        0\n",
       "insulin     0\n",
       "bmi         0\n",
       "preg        0\n",
       "pedigree    0\n",
       "age         0\n",
       "class       0\n",
       "dtype: int64"
      ]
     },
     "execution_count": 43,
     "metadata": {},
     "output_type": "execute_result"
    }
   ],
   "source": [
    "df3.isnull().sum()"
   ]
  },
  {
   "cell_type": "code",
   "execution_count": 44,
   "id": "2e803fc9-47f2-4233-9fcd-66d027b1ec71",
   "metadata": {},
   "outputs": [
    {
     "data": {
      "text/html": [
       "<div>\n",
       "<style scoped>\n",
       "    .dataframe tbody tr th:only-of-type {\n",
       "        vertical-align: middle;\n",
       "    }\n",
       "\n",
       "    .dataframe tbody tr th {\n",
       "        vertical-align: top;\n",
       "    }\n",
       "\n",
       "    .dataframe thead th {\n",
       "        text-align: right;\n",
       "    }\n",
       "</style>\n",
       "<table border=\"1\" class=\"dataframe\">\n",
       "  <thead>\n",
       "    <tr style=\"text-align: right;\">\n",
       "      <th></th>\n",
       "      <th>glucose</th>\n",
       "      <th>bp</th>\n",
       "      <th>skin</th>\n",
       "      <th>insulin</th>\n",
       "      <th>bmi</th>\n",
       "      <th>preg</th>\n",
       "      <th>pedigree</th>\n",
       "      <th>age</th>\n",
       "      <th>class</th>\n",
       "    </tr>\n",
       "  </thead>\n",
       "  <tbody>\n",
       "    <tr>\n",
       "      <th>glucose</th>\n",
       "      <td>1.000000</td>\n",
       "      <td>0.218367</td>\n",
       "      <td>0.192991</td>\n",
       "      <td>0.420157</td>\n",
       "      <td>0.230941</td>\n",
       "      <td>0.127911</td>\n",
       "      <td>0.137060</td>\n",
       "      <td>0.266534</td>\n",
       "      <td>0.492928</td>\n",
       "    </tr>\n",
       "    <tr>\n",
       "      <th>bp</th>\n",
       "      <td>0.218367</td>\n",
       "      <td>1.000000</td>\n",
       "      <td>0.192816</td>\n",
       "      <td>0.072517</td>\n",
       "      <td>0.281268</td>\n",
       "      <td>0.208522</td>\n",
       "      <td>-0.002763</td>\n",
       "      <td>0.324595</td>\n",
       "      <td>0.166074</td>\n",
       "    </tr>\n",
       "    <tr>\n",
       "      <th>skin</th>\n",
       "      <td>0.192991</td>\n",
       "      <td>0.192816</td>\n",
       "      <td>1.000000</td>\n",
       "      <td>0.158139</td>\n",
       "      <td>0.542398</td>\n",
       "      <td>0.082989</td>\n",
       "      <td>0.100966</td>\n",
       "      <td>0.127872</td>\n",
       "      <td>0.215299</td>\n",
       "    </tr>\n",
       "    <tr>\n",
       "      <th>insulin</th>\n",
       "      <td>0.420157</td>\n",
       "      <td>0.072517</td>\n",
       "      <td>0.158139</td>\n",
       "      <td>1.000000</td>\n",
       "      <td>0.166586</td>\n",
       "      <td>0.056027</td>\n",
       "      <td>0.098634</td>\n",
       "      <td>0.136734</td>\n",
       "      <td>0.214411</td>\n",
       "    </tr>\n",
       "    <tr>\n",
       "      <th>bmi</th>\n",
       "      <td>0.230941</td>\n",
       "      <td>0.281268</td>\n",
       "      <td>0.542398</td>\n",
       "      <td>0.166586</td>\n",
       "      <td>1.000000</td>\n",
       "      <td>0.021565</td>\n",
       "      <td>0.153400</td>\n",
       "      <td>0.025519</td>\n",
       "      <td>0.311924</td>\n",
       "    </tr>\n",
       "    <tr>\n",
       "      <th>preg</th>\n",
       "      <td>0.127911</td>\n",
       "      <td>0.208522</td>\n",
       "      <td>0.082989</td>\n",
       "      <td>0.056027</td>\n",
       "      <td>0.021565</td>\n",
       "      <td>1.000000</td>\n",
       "      <td>-0.033523</td>\n",
       "      <td>0.544341</td>\n",
       "      <td>0.221898</td>\n",
       "    </tr>\n",
       "    <tr>\n",
       "      <th>pedigree</th>\n",
       "      <td>0.137060</td>\n",
       "      <td>-0.002763</td>\n",
       "      <td>0.100966</td>\n",
       "      <td>0.098634</td>\n",
       "      <td>0.153400</td>\n",
       "      <td>-0.033523</td>\n",
       "      <td>1.000000</td>\n",
       "      <td>0.033561</td>\n",
       "      <td>0.173844</td>\n",
       "    </tr>\n",
       "    <tr>\n",
       "      <th>age</th>\n",
       "      <td>0.266534</td>\n",
       "      <td>0.324595</td>\n",
       "      <td>0.127872</td>\n",
       "      <td>0.136734</td>\n",
       "      <td>0.025519</td>\n",
       "      <td>0.544341</td>\n",
       "      <td>0.033561</td>\n",
       "      <td>1.000000</td>\n",
       "      <td>0.238356</td>\n",
       "    </tr>\n",
       "    <tr>\n",
       "      <th>class</th>\n",
       "      <td>0.492928</td>\n",
       "      <td>0.166074</td>\n",
       "      <td>0.215299</td>\n",
       "      <td>0.214411</td>\n",
       "      <td>0.311924</td>\n",
       "      <td>0.221898</td>\n",
       "      <td>0.173844</td>\n",
       "      <td>0.238356</td>\n",
       "      <td>1.000000</td>\n",
       "    </tr>\n",
       "  </tbody>\n",
       "</table>\n",
       "</div>"
      ],
      "text/plain": [
       "           glucose        bp      skin   insulin       bmi      preg  \\\n",
       "glucose   1.000000  0.218367  0.192991  0.420157  0.230941  0.127911   \n",
       "bp        0.218367  1.000000  0.192816  0.072517  0.281268  0.208522   \n",
       "skin      0.192991  0.192816  1.000000  0.158139  0.542398  0.082989   \n",
       "insulin   0.420157  0.072517  0.158139  1.000000  0.166586  0.056027   \n",
       "bmi       0.230941  0.281268  0.542398  0.166586  1.000000  0.021565   \n",
       "preg      0.127911  0.208522  0.082989  0.056027  0.021565  1.000000   \n",
       "pedigree  0.137060 -0.002763  0.100966  0.098634  0.153400 -0.033523   \n",
       "age       0.266534  0.324595  0.127872  0.136734  0.025519  0.544341   \n",
       "class     0.492928  0.166074  0.215299  0.214411  0.311924  0.221898   \n",
       "\n",
       "          pedigree       age     class  \n",
       "glucose   0.137060  0.266534  0.492928  \n",
       "bp       -0.002763  0.324595  0.166074  \n",
       "skin      0.100966  0.127872  0.215299  \n",
       "insulin   0.098634  0.136734  0.214411  \n",
       "bmi       0.153400  0.025519  0.311924  \n",
       "preg     -0.033523  0.544341  0.221898  \n",
       "pedigree  1.000000  0.033561  0.173844  \n",
       "age       0.033561  1.000000  0.238356  \n",
       "class     0.173844  0.238356  1.000000  "
      ]
     },
     "execution_count": 44,
     "metadata": {},
     "output_type": "execute_result"
    }
   ],
   "source": [
    "# display the corelation matrix\n",
    "df3.corr()"
   ]
  },
  {
   "cell_type": "code",
   "execution_count": 45,
   "id": "8c05c66e-7ff8-4a50-9b2a-0344a5bc4b55",
   "metadata": {},
   "outputs": [
    {
     "data": {
      "text/plain": [
       "<Axes: >"
      ]
     },
     "execution_count": 45,
     "metadata": {},
     "output_type": "execute_result"
    },
    {
     "data": {
      "image/png": "[encoded data removed]",
      "text/plain": [
       "<Figure size 640x480 with 2 Axes>"
      ]
     },
     "metadata": {},
     "output_type": "display_data"
    }
   ],
   "source": [
    "# show the co-relation using a heatmap\n",
    "import seaborn as sns\n",
    "sns.heatmap(df3.corr(),annot=True,linecolor=\"black\",linewidth=2)"
   ]
  },
  {
   "cell_type": "code",
   "execution_count": 46,
   "id": "3a5efb1c-01fa-44f9-a88a-46f33254e147",
   "metadata": {},
   "outputs": [],
   "source": [
    "# seperate input and output\n",
    "x=df3.drop(columns=['class'])\n",
    "y=df3['class']"
   ]
  },
  {
   "cell_type": "code",
   "execution_count": 47,
   "id": "5d4a7a20-9f8d-4918-958e-766f8f47a667",
   "metadata": {},
   "outputs": [
    {
     "data": {
      "text/plain": [
       "0      1\n",
       "1      0\n",
       "2      1\n",
       "3      0\n",
       "4      1\n",
       "      ..\n",
       "763    0\n",
       "764    0\n",
       "765    0\n",
       "766    1\n",
       "767    0\n",
       "Name: class, Length: 768, dtype: int64"
      ]
     },
     "execution_count": 47,
     "metadata": {},
     "output_type": "execute_result"
    }
   ],
   "source": [
    "y"
   ]
  },
  {
   "cell_type": "code",
   "execution_count": 48,
   "id": "080877e5-f675-48c2-95ac-a39b3c469e0e",
   "metadata": {},
   "outputs": [],
   "source": [
    "# split the data set into 2 parts. one for training and another part for testing\n",
    "from sklearn.model_selection import train_test_split\n",
    "x_train,x_test,y_train,y_test=train_test_split(x,y,test_size=0.2)"
   ]
  },
  {
   "cell_type": "code",
   "execution_count": 49,
   "id": "98b6bfd8-0bc7-4d90-80ea-c155f325afd3",
   "metadata": {},
   "outputs": [
    {
     "data": {
      "text/html": [
       "<div>\n",
       "<style scoped>\n",
       "    .dataframe tbody tr th:only-of-type {\n",
       "        vertical-align: middle;\n",
       "    }\n",
       "\n",
       "    .dataframe tbody tr th {\n",
       "        vertical-align: top;\n",
       "    }\n",
       "\n",
       "    .dataframe thead th {\n",
       "        text-align: right;\n",
       "    }\n",
       "</style>\n",
       "<table border=\"1\" class=\"dataframe\">\n",
       "  <thead>\n",
       "    <tr style=\"text-align: right;\">\n",
       "      <th></th>\n",
       "      <th>glucose</th>\n",
       "      <th>bp</th>\n",
       "      <th>skin</th>\n",
       "      <th>insulin</th>\n",
       "      <th>bmi</th>\n",
       "      <th>preg</th>\n",
       "      <th>pedigree</th>\n",
       "      <th>age</th>\n",
       "    </tr>\n",
       "  </thead>\n",
       "  <tbody>\n",
       "    <tr>\n",
       "      <th>442</th>\n",
       "      <td>117.0</td>\n",
       "      <td>64.0</td>\n",
       "      <td>27.00000</td>\n",
       "      <td>120.000000</td>\n",
       "      <td>33.2</td>\n",
       "      <td>4</td>\n",
       "      <td>0.230</td>\n",
       "      <td>24</td>\n",
       "    </tr>\n",
       "    <tr>\n",
       "      <th>477</th>\n",
       "      <td>114.0</td>\n",
       "      <td>76.0</td>\n",
       "      <td>17.00000</td>\n",
       "      <td>110.000000</td>\n",
       "      <td>23.8</td>\n",
       "      <td>7</td>\n",
       "      <td>0.466</td>\n",
       "      <td>31</td>\n",
       "    </tr>\n",
       "    <tr>\n",
       "      <th>120</th>\n",
       "      <td>162.0</td>\n",
       "      <td>76.0</td>\n",
       "      <td>56.00000</td>\n",
       "      <td>100.000000</td>\n",
       "      <td>53.2</td>\n",
       "      <td>0</td>\n",
       "      <td>0.759</td>\n",
       "      <td>25</td>\n",
       "    </tr>\n",
       "    <tr>\n",
       "      <th>754</th>\n",
       "      <td>154.0</td>\n",
       "      <td>78.0</td>\n",
       "      <td>32.00000</td>\n",
       "      <td>155.548223</td>\n",
       "      <td>32.4</td>\n",
       "      <td>8</td>\n",
       "      <td>0.443</td>\n",
       "      <td>45</td>\n",
       "    </tr>\n",
       "    <tr>\n",
       "      <th>414</th>\n",
       "      <td>138.0</td>\n",
       "      <td>60.0</td>\n",
       "      <td>35.00000</td>\n",
       "      <td>167.000000</td>\n",
       "      <td>34.6</td>\n",
       "      <td>0</td>\n",
       "      <td>0.534</td>\n",
       "      <td>21</td>\n",
       "    </tr>\n",
       "    <tr>\n",
       "      <th>...</th>\n",
       "      <td>...</td>\n",
       "      <td>...</td>\n",
       "      <td>...</td>\n",
       "      <td>...</td>\n",
       "      <td>...</td>\n",
       "      <td>...</td>\n",
       "      <td>...</td>\n",
       "      <td>...</td>\n",
       "    </tr>\n",
       "    <tr>\n",
       "      <th>574</th>\n",
       "      <td>143.0</td>\n",
       "      <td>86.0</td>\n",
       "      <td>30.00000</td>\n",
       "      <td>330.000000</td>\n",
       "      <td>30.1</td>\n",
       "      <td>1</td>\n",
       "      <td>0.892</td>\n",
       "      <td>23</td>\n",
       "    </tr>\n",
       "    <tr>\n",
       "      <th>672</th>\n",
       "      <td>68.0</td>\n",
       "      <td>106.0</td>\n",
       "      <td>23.00000</td>\n",
       "      <td>49.000000</td>\n",
       "      <td>35.5</td>\n",
       "      <td>10</td>\n",
       "      <td>0.285</td>\n",
       "      <td>47</td>\n",
       "    </tr>\n",
       "    <tr>\n",
       "      <th>732</th>\n",
       "      <td>174.0</td>\n",
       "      <td>88.0</td>\n",
       "      <td>37.00000</td>\n",
       "      <td>120.000000</td>\n",
       "      <td>44.5</td>\n",
       "      <td>2</td>\n",
       "      <td>0.646</td>\n",
       "      <td>24</td>\n",
       "    </tr>\n",
       "    <tr>\n",
       "      <th>340</th>\n",
       "      <td>130.0</td>\n",
       "      <td>70.0</td>\n",
       "      <td>13.00000</td>\n",
       "      <td>105.000000</td>\n",
       "      <td>25.9</td>\n",
       "      <td>1</td>\n",
       "      <td>0.472</td>\n",
       "      <td>22</td>\n",
       "    </tr>\n",
       "    <tr>\n",
       "      <th>473</th>\n",
       "      <td>136.0</td>\n",
       "      <td>90.0</td>\n",
       "      <td>29.15342</td>\n",
       "      <td>155.548223</td>\n",
       "      <td>29.9</td>\n",
       "      <td>7</td>\n",
       "      <td>0.210</td>\n",
       "      <td>50</td>\n",
       "    </tr>\n",
       "  </tbody>\n",
       "</table>\n",
       "<p>614 rows × 8 columns</p>\n",
       "</div>"
      ],
      "text/plain": [
       "     glucose     bp      skin     insulin   bmi  preg  pedigree  age\n",
       "442    117.0   64.0  27.00000  120.000000  33.2     4     0.230   24\n",
       "477    114.0   76.0  17.00000  110.000000  23.8     7     0.466   31\n",
       "120    162.0   76.0  56.00000  100.000000  53.2     0     0.759   25\n",
       "754    154.0   78.0  32.00000  155.548223  32.4     8     0.443   45\n",
       "414    138.0   60.0  35.00000  167.000000  34.6     0     0.534   21\n",
       "..       ...    ...       ...         ...   ...   ...       ...  ...\n",
       "574    143.0   86.0  30.00000  330.000000  30.1     1     0.892   23\n",
       "672     68.0  106.0  23.00000   49.000000  35.5    10     0.285   47\n",
       "732    174.0   88.0  37.00000  120.000000  44.5     2     0.646   24\n",
       "340    130.0   70.0  13.00000  105.000000  25.9     1     0.472   22\n",
       "473    136.0   90.0  29.15342  155.548223  29.9     7     0.210   50\n",
       "\n",
       "[614 rows x 8 columns]"
      ]
     },
     "execution_count": 49,
     "metadata": {},
     "output_type": "execute_result"
    }
   ],
   "source": [
    "x_train  # input 80% data"
   ]
  },
  {
   "cell_type": "code",
   "execution_count": 50,
   "id": "954c0d06-60fe-4c02-b4b5-2ceacc542ba1",
   "metadata": {},
   "outputs": [
    {
     "data": {
      "text/html": [
       "<div>\n",
       "<style scoped>\n",
       "    .dataframe tbody tr th:only-of-type {\n",
       "        vertical-align: middle;\n",
       "    }\n",
       "\n",
       "    .dataframe tbody tr th {\n",
       "        vertical-align: top;\n",
       "    }\n",
       "\n",
       "    .dataframe thead th {\n",
       "        text-align: right;\n",
       "    }\n",
       "</style>\n",
       "<table border=\"1\" class=\"dataframe\">\n",
       "  <thead>\n",
       "    <tr style=\"text-align: right;\">\n",
       "      <th></th>\n",
       "      <th>glucose</th>\n",
       "      <th>bp</th>\n",
       "      <th>skin</th>\n",
       "      <th>insulin</th>\n",
       "      <th>bmi</th>\n",
       "      <th>preg</th>\n",
       "      <th>pedigree</th>\n",
       "      <th>age</th>\n",
       "    </tr>\n",
       "  </thead>\n",
       "  <tbody>\n",
       "    <tr>\n",
       "      <th>442</th>\n",
       "      <td>117.0</td>\n",
       "      <td>64.0</td>\n",
       "      <td>27.00000</td>\n",
       "      <td>120.000000</td>\n",
       "      <td>33.2</td>\n",
       "      <td>4</td>\n",
       "      <td>0.230</td>\n",
       "      <td>24</td>\n",
       "    </tr>\n",
       "    <tr>\n",
       "      <th>477</th>\n",
       "      <td>114.0</td>\n",
       "      <td>76.0</td>\n",
       "      <td>17.00000</td>\n",
       "      <td>110.000000</td>\n",
       "      <td>23.8</td>\n",
       "      <td>7</td>\n",
       "      <td>0.466</td>\n",
       "      <td>31</td>\n",
       "    </tr>\n",
       "    <tr>\n",
       "      <th>120</th>\n",
       "      <td>162.0</td>\n",
       "      <td>76.0</td>\n",
       "      <td>56.00000</td>\n",
       "      <td>100.000000</td>\n",
       "      <td>53.2</td>\n",
       "      <td>0</td>\n",
       "      <td>0.759</td>\n",
       "      <td>25</td>\n",
       "    </tr>\n",
       "    <tr>\n",
       "      <th>754</th>\n",
       "      <td>154.0</td>\n",
       "      <td>78.0</td>\n",
       "      <td>32.00000</td>\n",
       "      <td>155.548223</td>\n",
       "      <td>32.4</td>\n",
       "      <td>8</td>\n",
       "      <td>0.443</td>\n",
       "      <td>45</td>\n",
       "    </tr>\n",
       "    <tr>\n",
       "      <th>414</th>\n",
       "      <td>138.0</td>\n",
       "      <td>60.0</td>\n",
       "      <td>35.00000</td>\n",
       "      <td>167.000000</td>\n",
       "      <td>34.6</td>\n",
       "      <td>0</td>\n",
       "      <td>0.534</td>\n",
       "      <td>21</td>\n",
       "    </tr>\n",
       "    <tr>\n",
       "      <th>...</th>\n",
       "      <td>...</td>\n",
       "      <td>...</td>\n",
       "      <td>...</td>\n",
       "      <td>...</td>\n",
       "      <td>...</td>\n",
       "      <td>...</td>\n",
       "      <td>...</td>\n",
       "      <td>...</td>\n",
       "    </tr>\n",
       "    <tr>\n",
       "      <th>574</th>\n",
       "      <td>143.0</td>\n",
       "      <td>86.0</td>\n",
       "      <td>30.00000</td>\n",
       "      <td>330.000000</td>\n",
       "      <td>30.1</td>\n",
       "      <td>1</td>\n",
       "      <td>0.892</td>\n",
       "      <td>23</td>\n",
       "    </tr>\n",
       "    <tr>\n",
       "      <th>672</th>\n",
       "      <td>68.0</td>\n",
       "      <td>106.0</td>\n",
       "      <td>23.00000</td>\n",
       "      <td>49.000000</td>\n",
       "      <td>35.5</td>\n",
       "      <td>10</td>\n",
       "      <td>0.285</td>\n",
       "      <td>47</td>\n",
       "    </tr>\n",
       "    <tr>\n",
       "      <th>732</th>\n",
       "      <td>174.0</td>\n",
       "      <td>88.0</td>\n",
       "      <td>37.00000</td>\n",
       "      <td>120.000000</td>\n",
       "      <td>44.5</td>\n",
       "      <td>2</td>\n",
       "      <td>0.646</td>\n",
       "      <td>24</td>\n",
       "    </tr>\n",
       "    <tr>\n",
       "      <th>340</th>\n",
       "      <td>130.0</td>\n",
       "      <td>70.0</td>\n",
       "      <td>13.00000</td>\n",
       "      <td>105.000000</td>\n",
       "      <td>25.9</td>\n",
       "      <td>1</td>\n",
       "      <td>0.472</td>\n",
       "      <td>22</td>\n",
       "    </tr>\n",
       "    <tr>\n",
       "      <th>473</th>\n",
       "      <td>136.0</td>\n",
       "      <td>90.0</td>\n",
       "      <td>29.15342</td>\n",
       "      <td>155.548223</td>\n",
       "      <td>29.9</td>\n",
       "      <td>7</td>\n",
       "      <td>0.210</td>\n",
       "      <td>50</td>\n",
       "    </tr>\n",
       "  </tbody>\n",
       "</table>\n",
       "<p>614 rows × 8 columns</p>\n",
       "</div>"
      ],
      "text/plain": [
       "     glucose     bp      skin     insulin   bmi  preg  pedigree  age\n",
       "442    117.0   64.0  27.00000  120.000000  33.2     4     0.230   24\n",
       "477    114.0   76.0  17.00000  110.000000  23.8     7     0.466   31\n",
       "120    162.0   76.0  56.00000  100.000000  53.2     0     0.759   25\n",
       "754    154.0   78.0  32.00000  155.548223  32.4     8     0.443   45\n",
       "414    138.0   60.0  35.00000  167.000000  34.6     0     0.534   21\n",
       "..       ...    ...       ...         ...   ...   ...       ...  ...\n",
       "574    143.0   86.0  30.00000  330.000000  30.1     1     0.892   23\n",
       "672     68.0  106.0  23.00000   49.000000  35.5    10     0.285   47\n",
       "732    174.0   88.0  37.00000  120.000000  44.5     2     0.646   24\n",
       "340    130.0   70.0  13.00000  105.000000  25.9     1     0.472   22\n",
       "473    136.0   90.0  29.15342  155.548223  29.9     7     0.210   50\n",
       "\n",
       "[614 rows x 8 columns]"
      ]
     },
     "execution_count": 50,
     "metadata": {},
     "output_type": "execute_result"
    }
   ],
   "source": [
    "x_train"
   ]
  },
  {
   "cell_type": "code",
   "execution_count": 51,
   "id": "0a564119-0a45-4732-a355-08c8d7f11373",
   "metadata": {},
   "outputs": [
    {
     "data": {
      "text/html": [
       "<div>\n",
       "<style scoped>\n",
       "    .dataframe tbody tr th:only-of-type {\n",
       "        vertical-align: middle;\n",
       "    }\n",
       "\n",
       "    .dataframe tbody tr th {\n",
       "        vertical-align: top;\n",
       "    }\n",
       "\n",
       "    .dataframe thead th {\n",
       "        text-align: right;\n",
       "    }\n",
       "</style>\n",
       "<table border=\"1\" class=\"dataframe\">\n",
       "  <thead>\n",
       "    <tr style=\"text-align: right;\">\n",
       "      <th></th>\n",
       "      <th>glucose</th>\n",
       "      <th>bp</th>\n",
       "      <th>skin</th>\n",
       "      <th>insulin</th>\n",
       "      <th>bmi</th>\n",
       "      <th>preg</th>\n",
       "      <th>pedigree</th>\n",
       "      <th>age</th>\n",
       "    </tr>\n",
       "  </thead>\n",
       "  <tbody>\n",
       "    <tr>\n",
       "      <th>442</th>\n",
       "      <td>117.0</td>\n",
       "      <td>64.0</td>\n",
       "      <td>27.00000</td>\n",
       "      <td>120.000000</td>\n",
       "      <td>33.2</td>\n",
       "      <td>4</td>\n",
       "      <td>0.230</td>\n",
       "      <td>24</td>\n",
       "    </tr>\n",
       "    <tr>\n",
       "      <th>477</th>\n",
       "      <td>114.0</td>\n",
       "      <td>76.0</td>\n",
       "      <td>17.00000</td>\n",
       "      <td>110.000000</td>\n",
       "      <td>23.8</td>\n",
       "      <td>7</td>\n",
       "      <td>0.466</td>\n",
       "      <td>31</td>\n",
       "    </tr>\n",
       "    <tr>\n",
       "      <th>120</th>\n",
       "      <td>162.0</td>\n",
       "      <td>76.0</td>\n",
       "      <td>56.00000</td>\n",
       "      <td>100.000000</td>\n",
       "      <td>53.2</td>\n",
       "      <td>0</td>\n",
       "      <td>0.759</td>\n",
       "      <td>25</td>\n",
       "    </tr>\n",
       "    <tr>\n",
       "      <th>754</th>\n",
       "      <td>154.0</td>\n",
       "      <td>78.0</td>\n",
       "      <td>32.00000</td>\n",
       "      <td>155.548223</td>\n",
       "      <td>32.4</td>\n",
       "      <td>8</td>\n",
       "      <td>0.443</td>\n",
       "      <td>45</td>\n",
       "    </tr>\n",
       "    <tr>\n",
       "      <th>414</th>\n",
       "      <td>138.0</td>\n",
       "      <td>60.0</td>\n",
       "      <td>35.00000</td>\n",
       "      <td>167.000000</td>\n",
       "      <td>34.6</td>\n",
       "      <td>0</td>\n",
       "      <td>0.534</td>\n",
       "      <td>21</td>\n",
       "    </tr>\n",
       "    <tr>\n",
       "      <th>...</th>\n",
       "      <td>...</td>\n",
       "      <td>...</td>\n",
       "      <td>...</td>\n",
       "      <td>...</td>\n",
       "      <td>...</td>\n",
       "      <td>...</td>\n",
       "      <td>...</td>\n",
       "      <td>...</td>\n",
       "    </tr>\n",
       "    <tr>\n",
       "      <th>574</th>\n",
       "      <td>143.0</td>\n",
       "      <td>86.0</td>\n",
       "      <td>30.00000</td>\n",
       "      <td>330.000000</td>\n",
       "      <td>30.1</td>\n",
       "      <td>1</td>\n",
       "      <td>0.892</td>\n",
       "      <td>23</td>\n",
       "    </tr>\n",
       "    <tr>\n",
       "      <th>672</th>\n",
       "      <td>68.0</td>\n",
       "      <td>106.0</td>\n",
       "      <td>23.00000</td>\n",
       "      <td>49.000000</td>\n",
       "      <td>35.5</td>\n",
       "      <td>10</td>\n",
       "      <td>0.285</td>\n",
       "      <td>47</td>\n",
       "    </tr>\n",
       "    <tr>\n",
       "      <th>732</th>\n",
       "      <td>174.0</td>\n",
       "      <td>88.0</td>\n",
       "      <td>37.00000</td>\n",
       "      <td>120.000000</td>\n",
       "      <td>44.5</td>\n",
       "      <td>2</td>\n",
       "      <td>0.646</td>\n",
       "      <td>24</td>\n",
       "    </tr>\n",
       "    <tr>\n",
       "      <th>340</th>\n",
       "      <td>130.0</td>\n",
       "      <td>70.0</td>\n",
       "      <td>13.00000</td>\n",
       "      <td>105.000000</td>\n",
       "      <td>25.9</td>\n",
       "      <td>1</td>\n",
       "      <td>0.472</td>\n",
       "      <td>22</td>\n",
       "    </tr>\n",
       "    <tr>\n",
       "      <th>473</th>\n",
       "      <td>136.0</td>\n",
       "      <td>90.0</td>\n",
       "      <td>29.15342</td>\n",
       "      <td>155.548223</td>\n",
       "      <td>29.9</td>\n",
       "      <td>7</td>\n",
       "      <td>0.210</td>\n",
       "      <td>50</td>\n",
       "    </tr>\n",
       "  </tbody>\n",
       "</table>\n",
       "<p>614 rows × 8 columns</p>\n",
       "</div>"
      ],
      "text/plain": [
       "     glucose     bp      skin     insulin   bmi  preg  pedigree  age\n",
       "442    117.0   64.0  27.00000  120.000000  33.2     4     0.230   24\n",
       "477    114.0   76.0  17.00000  110.000000  23.8     7     0.466   31\n",
       "120    162.0   76.0  56.00000  100.000000  53.2     0     0.759   25\n",
       "754    154.0   78.0  32.00000  155.548223  32.4     8     0.443   45\n",
       "414    138.0   60.0  35.00000  167.000000  34.6     0     0.534   21\n",
       "..       ...    ...       ...         ...   ...   ...       ...  ...\n",
       "574    143.0   86.0  30.00000  330.000000  30.1     1     0.892   23\n",
       "672     68.0  106.0  23.00000   49.000000  35.5    10     0.285   47\n",
       "732    174.0   88.0  37.00000  120.000000  44.5     2     0.646   24\n",
       "340    130.0   70.0  13.00000  105.000000  25.9     1     0.472   22\n",
       "473    136.0   90.0  29.15342  155.548223  29.9     7     0.210   50\n",
       "\n",
       "[614 rows x 8 columns]"
      ]
     },
     "execution_count": 51,
     "metadata": {},
     "output_type": "execute_result"
    }
   ],
   "source": [
    "x_train "
   ]
  },
  {
   "cell_type": "code",
   "execution_count": 52,
   "id": "33e85d09-0edf-44fc-9b1e-363115417d08",
   "metadata": {},
   "outputs": [
    {
     "data": {
      "text/plain": [
       "(154, 8)"
      ]
     },
     "execution_count": 52,
     "metadata": {},
     "output_type": "execute_result"
    }
   ],
   "source": [
    "x_test.shape"
   ]
  },
  {
   "cell_type": "code",
   "execution_count": 53,
   "id": "3efc6732-f426-4c0a-9fc3-07cfbe6775d2",
   "metadata": {},
   "outputs": [
    {
     "data": {
      "text/plain": [
       "(614,)"
      ]
     },
     "execution_count": 53,
     "metadata": {},
     "output_type": "execute_result"
    }
   ],
   "source": [
    "y_train.shape   # output of x train"
   ]
  },
  {
   "cell_type": "code",
   "execution_count": 54,
   "id": "08a38bc9-99d3-4282-9bd0-391a86083444",
   "metadata": {},
   "outputs": [
    {
     "data": {
      "text/plain": [
       "(154,)"
      ]
     },
     "execution_count": 54,
     "metadata": {},
     "output_type": "execute_result"
    }
   ],
   "source": [
    "y_test.shape"
   ]
  },
  {
   "cell_type": "code",
   "execution_count": 55,
   "id": "49cba539-5bae-4c9c-845b-45ca6dd3cad3",
   "metadata": {},
   "outputs": [
    {
     "data": {
      "text/html": [
       "<style>#sk-container-id-1 {\n",
       "  /* Definition of color scheme common for light and dark mode */\n",
       "  --sklearn-color-text: black;\n",
       "  --sklearn-color-line: gray;\n",
       "  /* Definition of color scheme for unfitted estimators */\n",
       "  --sklearn-color-unfitted-level-0: #fff5e6;\n",
       "  --sklearn-color-unfitted-level-1: #f6e4d2;\n",
       "  --sklearn-color-unfitted-level-2: #ffe0b3;\n",
       "  --sklearn-color-unfitted-level-3: chocolate;\n",
       "  /* Definition of color scheme for fitted estimators */\n",
       "  --sklearn-color-fitted-level-0: #f0f8ff;\n",
       "  --sklearn-color-fitted-level-1: #d4ebff;\n",
       "  --sklearn-color-fitted-level-2: #b3dbfd;\n",
       "  --sklearn-color-fitted-level-3: cornflowerblue;\n",
       "\n",
       "  /* Specific color for light theme */\n",
       "  --sklearn-color-text-on-default-background: var(--sg-text-color, var(--theme-code-foreground, var(--jp-content-font-color1, black)));\n",
       "  --sklearn-color-background: var(--sg-background-color, var(--theme-background, var(--jp-layout-color0, white)));\n",
       "  --sklearn-color-border-box: var(--sg-text-color, var(--theme-code-foreground, var(--jp-content-font-color1, black)));\n",
       "  --sklearn-color-icon: #696969;\n",
       "\n",
       "  @media (prefers-color-scheme: dark) {\n",
       "    /* Redefinition of color scheme for dark theme */\n",
       "    --sklearn-color-text-on-default-background: var(--sg-text-color, var(--theme-code-foreground, var(--jp-content-font-color1, white)));\n",
       "    --sklearn-color-background: var(--sg-background-color, var(--theme-background, var(--jp-layout-color0, #111)));\n",
       "    --sklearn-color-border-box: var(--sg-text-color, var(--theme-code-foreground, var(--jp-content-font-color1, white)));\n",
       "    --sklearn-color-icon: #878787;\n",
       "  }\n",
       "}\n",
       "\n",
       "#sk-container-id-1 {\n",
       "  color: var(--sklearn-color-text);\n",
       "}\n",
       "\n",
       "#sk-container-id-1 pre {\n",
       "  padding: 0;\n",
       "}\n",
       "\n",
       "#sk-container-id-1 input.sk-hidden--visually {\n",
       "  border: 0;\n",
       "  clip: rect(1px 1px 1px 1px);\n",
       "  clip: rect(1px, 1px, 1px, 1px);\n",
       "  height: 1px;\n",
       "  margin: -1px;\n",
       "  overflow: hidden;\n",
       "  padding: 0;\n",
       "  position: absolute;\n",
       "  width: 1px;\n",
       "}\n",
       "\n",
       "#sk-container-id-1 div.sk-dashed-wrapped {\n",
       "  border: 1px dashed var(--sklearn-color-line);\n",
       "  margin: 0 0.4em 0.5em 0.4em;\n",
       "  box-sizing: border-box;\n",
       "  padding-bottom: 0.4em;\n",
       "  background-color: var(--sklearn-color-background);\n",
       "}\n",
       "\n",
       "#sk-container-id-1 div.sk-container {\n",
       "  /* jupyter's `normalize.less` sets `[hidden] { display: none; }`\n",
       "     but bootstrap.min.css set `[hidden] { display: none !important; }`\n",
       "     so we also need the `!important` here to be able to override the\n",
       "     default hidden behavior on the sphinx rendered scikit-learn.org.\n",
       "     See: https://github.com/scikit-learn/scikit-learn/issues/21755 */\n",
       "  display: inline-block !important;\n",
       "  position: relative;\n",
       "}\n",
       "\n",
       "#sk-container-id-1 div.sk-text-repr-fallback {\n",
       "  display: none;\n",
       "}\n",
       "\n",
       "div.sk-parallel-item,\n",
       "div.sk-serial,\n",
       "div.sk-item {\n",
       "  /* draw centered vertical line to link estimators */\n",
       "  background-image: linear-gradient(var(--sklearn-color-text-on-default-background), var(--sklearn-color-text-on-default-background));\n",
       "  background-size: 2px 100%;\n",
       "  background-repeat: no-repeat;\n",
       "  background-position: center center;\n",
       "}\n",
       "\n",
       "/* Parallel-specific style estimator block */\n",
       "\n",
       "#sk-container-id-1 div.sk-parallel-item::after {\n",
       "  content: \"\";\n",
       "  width: 100%;\n",
       "  border-bottom: 2px solid var(--sklearn-color-text-on-default-background);\n",
       "  flex-grow: 1;\n",
       "}\n",
       "\n",
       "#sk-container-id-1 div.sk-parallel {\n",
       "  display: flex;\n",
       "  align-items: stretch;\n",
       "  justify-content: center;\n",
       "  background-color: var(--sklearn-color-background);\n",
       "  position: relative;\n",
       "}\n",
       "\n",
       "#sk-container-id-1 div.sk-parallel-item {\n",
       "  display: flex;\n",
       "  flex-direction: column;\n",
       "}\n",
       "\n",
       "#sk-container-id-1 div.sk-parallel-item:first-child::after {\n",
       "  align-self: flex-end;\n",
       "  width: 50%;\n",
       "}\n",
       "\n",
       "#sk-container-id-1 div.sk-parallel-item:last-child::after {\n",
       "  align-self: flex-start;\n",
       "  width: 50%;\n",
       "}\n",
       "\n",
       "#sk-container-id-1 div.sk-parallel-item:only-child::after {\n",
       "  width: 0;\n",
       "}\n",
       "\n",
       "/* Serial-specific style estimator block */\n",
       "\n",
       "#sk-container-id-1 div.sk-serial {\n",
       "  display: flex;\n",
       "  flex-direction: column;\n",
       "  align-items: center;\n",
       "  background-color: var(--sklearn-color-background);\n",
       "  padding-right: 1em;\n",
       "  padding-left: 1em;\n",
       "}\n",
       "\n",
       "\n",
       "/* Toggleable style: style used for estimator/Pipeline/ColumnTransformer box that is\n",
       "clickable and can be expanded/collapsed.\n",
       "- Pipeline and ColumnTransformer use this feature and define the default style\n",
       "- Estimators will overwrite some part of the style using the `sk-estimator` class\n",
       "*/\n",
       "\n",
       "/* Pipeline and ColumnTransformer style (default) */\n",
       "\n",
       "#sk-container-id-1 div.sk-toggleable {\n",
       "  /* Default theme specific background. It is overwritten whether we have a\n",
       "  specific estimator or a Pipeline/ColumnTransformer */\n",
       "  background-color: var(--sklearn-color-background);\n",
       "}\n",
       "\n",
       "/* Toggleable label */\n",
       "#sk-container-id-1 label.sk-toggleable__label {\n",
       "  cursor: pointer;\n",
       "  display: block;\n",
       "  width: 100%;\n",
       "  margin-bottom: 0;\n",
       "  padding: 0.5em;\n",
       "  box-sizing: border-box;\n",
       "  text-align: center;\n",
       "}\n",
       "\n",
       "#sk-container-id-1 label.sk-toggleable__label-arrow:before {\n",
       "  /* Arrow on the left of the label */\n",
       "  content: \"▸\";\n",
       "  float: left;\n",
       "  margin-right: 0.25em;\n",
       "  color: var(--sklearn-color-icon);\n",
       "}\n",
       "\n",
       "#sk-container-id-1 label.sk-toggleable__label-arrow:hover:before {\n",
       "  color: var(--sklearn-color-text);\n",
       "}\n",
       "\n",
       "/* Toggleable content - dropdown */\n",
       "\n",
       "#sk-container-id-1 div.sk-toggleable__content {\n",
       "  max-height: 0;\n",
       "  max-width: 0;\n",
       "  overflow: hidden;\n",
       "  text-align: left;\n",
       "  /* unfitted */\n",
       "  background-color: var(--sklearn-color-unfitted-level-0);\n",
       "}\n",
       "\n",
       "#sk-container-id-1 div.sk-toggleable__content.fitted {\n",
       "  /* fitted */\n",
       "  background-color: var(--sklearn-color-fitted-level-0);\n",
       "}\n",
       "\n",
       "#sk-container-id-1 div.sk-toggleable__content pre {\n",
       "  margin: 0.2em;\n",
       "  border-radius: 0.25em;\n",
       "  color: var(--sklearn-color-text);\n",
       "  /* unfitted */\n",
       "  background-color: var(--sklearn-color-unfitted-level-0);\n",
       "}\n",
       "\n",
       "#sk-container-id-1 div.sk-toggleable__content.fitted pre {\n",
       "  /* unfitted */\n",
       "  background-color: var(--sklearn-color-fitted-level-0);\n",
       "}\n",
       "\n",
       "#sk-container-id-1 input.sk-toggleable__control:checked~div.sk-toggleable__content {\n",
       "  /* Expand drop-down */\n",
       "  max-height: 200px;\n",
       "  max-width: 100%;\n",
       "  overflow: auto;\n",
       "}\n",
       "\n",
       "#sk-container-id-1 input.sk-toggleable__control:checked~label.sk-toggleable__label-arrow:before {\n",
       "  content: \"▾\";\n",
       "}\n",
       "\n",
       "/* Pipeline/ColumnTransformer-specific style */\n",
       "\n",
       "#sk-container-id-1 div.sk-label input.sk-toggleable__control:checked~label.sk-toggleable__label {\n",
       "  color: var(--sklearn-color-text);\n",
       "  background-color: var(--sklearn-color-unfitted-level-2);\n",
       "}\n",
       "\n",
       "#sk-container-id-1 div.sk-label.fitted input.sk-toggleable__control:checked~label.sk-toggleable__label {\n",
       "  background-color: var(--sklearn-color-fitted-level-2);\n",
       "}\n",
       "\n",
       "/* Estimator-specific style */\n",
       "\n",
       "/* Colorize estimator box */\n",
       "#sk-container-id-1 div.sk-estimator input.sk-toggleable__control:checked~label.sk-toggleable__label {\n",
       "  /* unfitted */\n",
       "  background-color: var(--sklearn-color-unfitted-level-2);\n",
       "}\n",
       "\n",
       "#sk-container-id-1 div.sk-estimator.fitted input.sk-toggleable__control:checked~label.sk-toggleable__label {\n",
       "  /* fitted */\n",
       "  background-color: var(--sklearn-color-fitted-level-2);\n",
       "}\n",
       "\n",
       "#sk-container-id-1 div.sk-label label.sk-toggleable__label,\n",
       "#sk-container-id-1 div.sk-label label {\n",
       "  /* The background is the default theme color */\n",
       "  color: var(--sklearn-color-text-on-default-background);\n",
       "}\n",
       "\n",
       "/* On hover, darken the color of the background */\n",
       "#sk-container-id-1 div.sk-label:hover label.sk-toggleable__label {\n",
       "  color: var(--sklearn-color-text);\n",
       "  background-color: var(--sklearn-color-unfitted-level-2);\n",
       "}\n",
       "\n",
       "/* Label box, darken color on hover, fitted */\n",
       "#sk-container-id-1 div.sk-label.fitted:hover label.sk-toggleable__label.fitted {\n",
       "  color: var(--sklearn-color-text);\n",
       "  background-color: var(--sklearn-color-fitted-level-2);\n",
       "}\n",
       "\n",
       "/* Estimator label */\n",
       "\n",
       "#sk-container-id-1 div.sk-label label {\n",
       "  font-family: monospace;\n",
       "  font-weight: bold;\n",
       "  display: inline-block;\n",
       "  line-height: 1.2em;\n",
       "}\n",
       "\n",
       "#sk-container-id-1 div.sk-label-container {\n",
       "  text-align: center;\n",
       "}\n",
       "\n",
       "/* Estimator-specific */\n",
       "#sk-container-id-1 div.sk-estimator {\n",
       "  font-family: monospace;\n",
       "  border: 1px dotted var(--sklearn-color-border-box);\n",
       "  border-radius: 0.25em;\n",
       "  box-sizing: border-box;\n",
       "  margin-bottom: 0.5em;\n",
       "  /* unfitted */\n",
       "  background-color: var(--sklearn-color-unfitted-level-0);\n",
       "}\n",
       "\n",
       "#sk-container-id-1 div.sk-estimator.fitted {\n",
       "  /* fitted */\n",
       "  background-color: var(--sklearn-color-fitted-level-0);\n",
       "}\n",
       "\n",
       "/* on hover */\n",
       "#sk-container-id-1 div.sk-estimator:hover {\n",
       "  /* unfitted */\n",
       "  background-color: var(--sklearn-color-unfitted-level-2);\n",
       "}\n",
       "\n",
       "#sk-container-id-1 div.sk-estimator.fitted:hover {\n",
       "  /* fitted */\n",
       "  background-color: var(--sklearn-color-fitted-level-2);\n",
       "}\n",
       "\n",
       "/* Specification for estimator info (e.g. \"i\" and \"?\") */\n",
       "\n",
       "/* Common style for \"i\" and \"?\" */\n",
       "\n",
       ".sk-estimator-doc-link,\n",
       "a:link.sk-estimator-doc-link,\n",
       "a:visited.sk-estimator-doc-link {\n",
       "  float: right;\n",
       "  font-size: smaller;\n",
       "  line-height: 1em;\n",
       "  font-family: monospace;\n",
       "  background-color: var(--sklearn-color-background);\n",
       "  border-radius: 1em;\n",
       "  height: 1em;\n",
       "  width: 1em;\n",
       "  text-decoration: none !important;\n",
       "  margin-left: 1ex;\n",
       "  /* unfitted */\n",
       "  border: var(--sklearn-color-unfitted-level-1) 1pt solid;\n",
       "  color: var(--sklearn-color-unfitted-level-1);\n",
       "}\n",
       "\n",
       ".sk-estimator-doc-link.fitted,\n",
       "a:link.sk-estimator-doc-link.fitted,\n",
       "a:visited.sk-estimator-doc-link.fitted {\n",
       "  /* fitted */\n",
       "  border: var(--sklearn-color-fitted-level-1) 1pt solid;\n",
       "  color: var(--sklearn-color-fitted-level-1);\n",
       "}\n",
       "\n",
       "/* On hover */\n",
       "div.sk-estimator:hover .sk-estimator-doc-link:hover,\n",
       ".sk-estimator-doc-link:hover,\n",
       "div.sk-label-container:hover .sk-estimator-doc-link:hover,\n",
       ".sk-estimator-doc-link:hover {\n",
       "  /* unfitted */\n",
       "  background-color: var(--sklearn-color-unfitted-level-3);\n",
       "  color: var(--sklearn-color-background);\n",
       "  text-decoration: none;\n",
       "}\n",
       "\n",
       "div.sk-estimator.fitted:hover .sk-estimator-doc-link.fitted:hover,\n",
       ".sk-estimator-doc-link.fitted:hover,\n",
       "div.sk-label-container:hover .sk-estimator-doc-link.fitted:hover,\n",
       ".sk-estimator-doc-link.fitted:hover {\n",
       "  /* fitted */\n",
       "  background-color: var(--sklearn-color-fitted-level-3);\n",
       "  color: var(--sklearn-color-background);\n",
       "  text-decoration: none;\n",
       "}\n",
       "\n",
       "/* Span, style for the box shown on hovering the info icon */\n",
       ".sk-estimator-doc-link span {\n",
       "  display: none;\n",
       "  z-index: 9999;\n",
       "  position: relative;\n",
       "  font-weight: normal;\n",
       "  right: .2ex;\n",
       "  padding: .5ex;\n",
       "  margin: .5ex;\n",
       "  width: min-content;\n",
       "  min-width: 20ex;\n",
       "  max-width: 50ex;\n",
       "  color: var(--sklearn-color-text);\n",
       "  box-shadow: 2pt 2pt 4pt #999;\n",
       "  /* unfitted */\n",
       "  background: var(--sklearn-color-unfitted-level-0);\n",
       "  border: .5pt solid var(--sklearn-color-unfitted-level-3);\n",
       "}\n",
       "\n",
       ".sk-estimator-doc-link.fitted span {\n",
       "  /* fitted */\n",
       "  background: var(--sklearn-color-fitted-level-0);\n",
       "  border: var(--sklearn-color-fitted-level-3);\n",
       "}\n",
       "\n",
       ".sk-estimator-doc-link:hover span {\n",
       "  display: block;\n",
       "}\n",
       "\n",
       "/* \"?\"-specific style due to the `<a>` HTML tag */\n",
       "\n",
       "#sk-container-id-1 a.estimator_doc_link {\n",
       "  float: right;\n",
       "  font-size: 1rem;\n",
       "  line-height: 1em;\n",
       "  font-family: monospace;\n",
       "  background-color: var(--sklearn-color-background);\n",
       "  border-radius: 1rem;\n",
       "  height: 1rem;\n",
       "  width: 1rem;\n",
       "  text-decoration: none;\n",
       "  /* unfitted */\n",
       "  color: var(--sklearn-color-unfitted-level-1);\n",
       "  border: var(--sklearn-color-unfitted-level-1) 1pt solid;\n",
       "}\n",
       "\n",
       "#sk-container-id-1 a.estimator_doc_link.fitted {\n",
       "  /* fitted */\n",
       "  border: var(--sklearn-color-fitted-level-1) 1pt solid;\n",
       "  color: var(--sklearn-color-fitted-level-1);\n",
       "}\n",
       "\n",
       "/* On hover */\n",
       "#sk-container-id-1 a.estimator_doc_link:hover {\n",
       "  /* unfitted */\n",
       "  background-color: var(--sklearn-color-unfitted-level-3);\n",
       "  color: var(--sklearn-color-background);\n",
       "  text-decoration: none;\n",
       "}\n",
       "\n",
       "#sk-container-id-1 a.estimator_doc_link.fitted:hover {\n",
       "  /* fitted */\n",
       "  background-color: var(--sklearn-color-fitted-level-3);\n",
       "}\n",
       "</style><div id=\"sk-container-id-1\" class=\"sk-top-container\"><div class=\"sk-text-repr-fallback\"><pre>LogisticRegression()</pre><b>In a Jupyter environment, please rerun this cell to show the HTML representation or trust the notebook. <br />On GitHub, the HTML representation is unable to render, please try loading this page with nbviewer.org.</b></div><div class=\"sk-container\" hidden><div class=\"sk-item\"><div class=\"sk-estimator fitted sk-toggleable\"><input class=\"sk-toggleable__control sk-hidden--visually\" id=\"sk-estimator-id-1\" type=\"checkbox\" checked><label for=\"sk-estimator-id-1\" class=\"sk-toggleable__label fitted sk-toggleable__label-arrow fitted\">&nbsp;&nbsp;LogisticRegression<a class=\"sk-estimator-doc-link fitted\" rel=\"noreferrer\" target=\"_blank\" href=\"https://scikit-learn.org/1.5/modules/generated/sklearn.linear_model.LogisticRegression.html\">?<span>Documentation for LogisticRegression</span></a><span class=\"sk-estimator-doc-link fitted\">i<span>Fitted</span></span></label><div class=\"sk-toggleable__content fitted\"><pre>LogisticRegression()</pre></div> </div></div></div></div>"
      ],
      "text/plain": [
       "LogisticRegression()"
      ]
     },
     "execution_count": 55,
     "metadata": {},
     "output_type": "execute_result"
    }
   ],
   "source": [
    "# implementn logistic Regression model for training\n",
    "import warnings\n",
    "warnings.filterwarnings('ignore')\n",
    "from sklearn.linear_model import LogisticRegression\n",
    "L=LogisticRegression()\n",
    "# train the model by using 80% training data\n",
    "L.fit(x_train,y_train)"
   ]
  },
  {
   "cell_type": "code",
   "execution_count": 56,
   "id": "2dcb7877-2477-4c9e-8644-ab1777635828",
   "metadata": {},
   "outputs": [
    {
     "data": {
      "text/plain": [
       "array([1, 0, 0, 0, 0, 0, 1, 0, 0, 1, 0, 0, 0, 0, 0, 0, 0, 1, 0, 0, 0, 0,\n",
       "       0, 0, 0, 0, 0, 0, 1, 0, 0, 0, 0, 0, 1, 0, 1, 0, 1, 0, 0, 1, 0, 1,\n",
       "       0, 0, 0, 0, 0, 1, 0, 1, 1, 0, 0, 0, 1, 0, 1, 0, 0, 0, 0, 0, 0, 0,\n",
       "       1, 1, 0, 0, 1, 0, 0, 1, 0, 0, 1, 0, 1, 0, 1, 1, 1, 1, 1, 0, 0, 0,\n",
       "       0, 1, 0, 0, 0, 0, 0, 1, 1, 0, 0, 0, 0, 0, 0, 0, 0, 0, 1, 1, 0, 0,\n",
       "       0, 0, 1, 0, 0, 1, 0, 0, 0, 1, 0, 1, 0, 0, 0, 0, 0, 1, 0, 0, 0, 0,\n",
       "       0, 1, 0, 0, 1, 0, 0, 1, 1, 0, 0, 0, 1, 0, 0, 0, 1, 0, 0, 0, 1, 1],\n",
       "      dtype=int64)"
      ]
     },
     "execution_count": 56,
     "metadata": {},
     "output_type": "execute_result"
    }
   ],
   "source": [
    "# test the model by using testing data\n",
    "y_pred_lg=L.predict(x_test)\n",
    "y_pred_lg  # predict ans of y_test"
   ]
  },
  {
   "cell_type": "code",
   "execution_count": 57,
   "id": "f24b1563-1883-4e04-aa43-6279212efb10",
   "metadata": {},
   "outputs": [
    {
     "name": "stdout",
     "output_type": "stream",
     "text": [
      "accuracy in logistic regression is  75.32 %\n"
     ]
    }
   ],
   "source": [
    "# find accuracy\n",
    "from sklearn.metrics import accuracy_score\n",
    "acc_lg=accuracy_score(y_test,y_pred_lg)\n",
    "acc_lg=round(acc_lg*100,2)\n",
    "print(\"accuracy in logistic regression is \",acc_lg, \"%\")"
   ]
  },
  {
   "cell_type": "code",
   "execution_count": 58,
   "id": "4a776093-3c40-49c7-bceb-8b477bf17954",
   "metadata": {},
   "outputs": [],
   "source": [
    "# implement k nearest neignbors model"
   ]
  },
  {
   "cell_type": "code",
   "execution_count": 59,
   "id": "a4496476-e2a0-4dc3-a92a-eee775d25221",
   "metadata": {},
   "outputs": [
    {
     "name": "stdout",
     "output_type": "stream",
     "text": [
      "accuracy of KNN model is  67.53\n"
     ]
    }
   ],
   "source": [
    "from sklearn.neighbors import KNeighborsClassifier\n",
    "K= KNeighborsClassifier(n_neighbors=5)\n",
    "# train the model\n",
    "K.fit(x_train,y_train)\n",
    "# test the model\n",
    "y_pred_knn=K.predict(x_test)\n",
    "# find accuracy\n",
    "from sklearn.metrics import accuracy_score\n",
    "acc_knn=accuracy_score(y_test,y_pred_knn)\n",
    "acc_knn=round(acc_knn*100,2)\n",
    "print(\"accuracy of KNN model is \",acc_knn)"
   ]
  },
  {
   "cell_type": "code",
   "execution_count": 60,
   "id": "fd227e5c-b6df-495e-8943-a9504b37ffa6",
   "metadata": {},
   "outputs": [
    {
     "name": "stdout",
     "output_type": "stream",
     "text": [
      "accuracy of decision Tree model is  67.53\n"
     ]
    }
   ],
   "source": [
    "# apply Decission Tree model\n",
    "from sklearn.tree import DecisionTreeClassifier\n",
    "D= DecisionTreeClassifier\n",
    "# train the model\n",
    "K.fit(x_train,y_train)\n",
    "# test the model\n",
    "y_pred_dt=K.predict(x_test)\n",
    "# find accuracy\n",
    "from sklearn.metrics import accuracy_score\n",
    "acc_dt=accuracy_score(y_test,y_pred_dt)\n",
    "acc_dt=round(acc_dt*100,2)\n",
    "print(\"accuracy of decision Tree model is \",acc_dt)"
   ]
  },
  {
   "cell_type": "code",
   "execution_count": 61,
   "id": "cabe09c8-a9c0-4ed2-abbd-ac4e3f0bf912",
   "metadata": {},
   "outputs": [],
   "source": [
    " ##########################################################################################"
   ]
  },
  {
   "cell_type": "code",
   "execution_count": 62,
   "id": "6cdafe08-6b0a-4b82-84c8-447943e8510d",
   "metadata": {},
   "outputs": [],
   "source": [
    "# load the pima data\n",
    "import warnings\n",
    "warnings.filterwarnings('ignore')\n",
    "import pandas as pd\n",
    "df=pd.read_csv(r\"C:\\Users\\HP\\Desktop\\Diabetes project\\pima.csv\",names=[\"preg\",\"glucose\",\"bp\",\"skin\",\"insulin\",\"bmi\",\"pedigree\",\"age\",\"class\"])\n",
    "\n",
    "df1=df[['glucose','bp','skin','insulin','bmi']]\n",
    "df2=df.drop(columns=['glucose','bp','skin','insulin','bmi'])\n",
    "\n",
    "# convert the zero values in df1 to NaN\n",
    "import numpy as np\n",
    "df1.replace(0,np.NaN,inplace=True)\n",
    "\n",
    "# fill the missing values by the mean value of specific column\n",
    "df1.fillna(df1.mean(),inplace=True)\n",
    "df1.isnull().sum()\n",
    "\n",
    "# concat df2 with df1 \n",
    "import pandas as pd\n",
    "df3=pd.concat([df1,df2],axis=1)\n",
    "\n",
    "# seperate input and output\n",
    "x=df3.drop(columns=['class'])\n",
    "y=df3['class']\n",
    "\n",
    "# split the data set into 2 parts. one for training and another part for testing\n",
    "from sklearn.model_selection import train_test_split\n",
    "x_train,x_test,y_train,y_test=train_test_split(x,y,test_size=0.2)\n",
    "\n"
   ]
  },
  {
   "cell_type": "code",
   "execution_count": 62,
   "id": "dac3b860-f05b-4255-a3d8-9f6471f499cb",
   "metadata": {},
   "outputs": [],
   "source": [
    "# load the pima data\n",
    "import warnings\n",
    "warnings.filterwarnings('ignore')\n",
    "import pandas as pd\n",
    "df=pd.read_csv(r\"C:\\Users\\HP\\Desktop\\Diabetes project\\pima.csv\",names=[\"preg\",\"glucose\",\"bp\",\"skin\",\"insulin\",\"bmi\",\"pedigree\",\"age\",\"class\"])\n",
    "\n",
    "df1=df[['glucose','bp','skin','insulin','bmi']]\n",
    "df2=df.drop(columns=['glucose','bp','skin','insulin','bmi'])\n",
    "\n",
    "# convert the zero values in df1 to NaN\n",
    "import numpy as np\n",
    "df1.replace(0,np.NaN,inplace=True)\n",
    "\n",
    "# fill the missing values by the mean value of specific column\n",
    "df1.fillna(df1.mean(),inplace=True)\n",
    "df1.isnull().sum()\n",
    "\n",
    "# concat df2 with df1 \n",
    "import pandas as pd\n",
    "df3=pd.concat([df1,df2],axis=1)\n",
    "\n",
    "# seperate input and output\n",
    "x=df3.drop(columns=['class'])\n",
    "y=df3['class']\n",
    "\n",
    "# split the data set into 2 parts. one for training and another part for testing\n",
    "from sklearn.model_selection import train_test_split\n",
    "x_train,x_test,y_train,y_test=train_test_split(x,y,test_size=0.2)\n",
    "\n"
   ]
  },
  {
   "cell_type": "markdown",
   "id": "f338a8bc-9d80-4c76-a1ec-8195a7f94e57",
   "metadata": {},
   "source": [
    "# implementn logistic Regression model for training"
   ]
  },
  {
   "cell_type": "code",
   "execution_count": 63,
   "id": "277bd774-de6f-4619-add7-b443085b915f",
   "metadata": {},
   "outputs": [
    {
     "name": "stdout",
     "output_type": "stream",
     "text": [
      "accuracy in logistic regression is  70.78 %\n"
     ]
    }
   ],
   "source": [
    "import warnings\n",
    "warnings.filterwarnings('ignore')\n",
    "from sklearn.linear_model import LogisticRegression\n",
    "L=LogisticRegression()\n",
    "# train the model by using 80% training data\n",
    "L.fit(x_train,y_train)\n",
    "\n",
    "# test the model by using testing data\n",
    "y_pred_lg=L.predict(x_test)\n",
    "\n",
    "# find accuracy\n",
    "from sklearn.metrics import accuracy_score\n",
    "acc_lg=accuracy_score(y_test,y_pred_lg)\n",
    "acc_lg=round(acc_lg*100,2)\n",
    "print(\"accuracy in logistic regression is \",acc_lg, \"%\")"
   ]
  },
  {
   "cell_type": "markdown",
   "id": "fa8537e7-5eaa-4b25-a3c5-9180fb5c4b00",
   "metadata": {},
   "source": [
    "# implement k nearest neignbors model"
   ]
  },
  {
   "cell_type": "code",
   "execution_count": 64,
   "id": "961cee5f-0505-487a-8bce-6934140a1480",
   "metadata": {},
   "outputs": [
    {
     "name": "stdout",
     "output_type": "stream",
     "text": [
      "accuracy of KNN model is  61.69\n"
     ]
    }
   ],
   "source": [
    "from sklearn.neighbors import KNeighborsClassifier\n",
    "K= KNeighborsClassifier(n_neighbors=5)\n",
    "# train the model\n",
    "K.fit(x_train,y_train)\n",
    "# test the model\n",
    "y_pred_knn=K.predict(x_test)\n",
    "# find accuracy\n",
    "from sklearn.metrics import accuracy_score\n",
    "acc_knn=accuracy_score(y_test,y_pred_knn)\n",
    "acc_knn=round(acc_knn*100,2)\n",
    "print(\"accuracy of KNN model is \",acc_knn)"
   ]
  },
  {
   "cell_type": "markdown",
   "id": "cdf78c90-56b5-4eae-95f7-3270e8b17163",
   "metadata": {},
   "source": [
    "# Implement Decission Tree model"
   ]
  },
  {
   "cell_type": "code",
   "execution_count": 65,
   "id": "79b31535-b165-4e12-bf23-e6eaded63111",
   "metadata": {},
   "outputs": [
    {
     "name": "stdout",
     "output_type": "stream",
     "text": [
      "accuracy of decision Tree model is  61.69\n"
     ]
    }
   ],
   "source": [
    "# apply Decission Tree model\n",
    "from sklearn.tree import DecisionTreeClassifier\n",
    "D= DecisionTreeClassifier\n",
    "# train the model\n",
    "K.fit(x_train,y_train)\n",
    "# test the model\n",
    "y_pred_dt=K.predict(x_test)\n",
    "# find accuracy\n",
    "from sklearn.metrics import accuracy_score\n",
    "acc_dt=accuracy_score(y_test,y_pred_dt)\n",
    "acc_dt=round(acc_dt*100,2)\n",
    "print(\"accuracy of decision Tree model is \",acc_dt)"
   ]
  },
  {
   "cell_type": "markdown",
   "id": "1dbf642e-ab61-4884-b446-6c11130901e2",
   "metadata": {},
   "source": [
    "# implement random forest model"
   ]
  },
  {
   "cell_type": "code",
   "execution_count": 67,
   "id": "5de3df61-59b9-43ff-8f6f-9fa534b7a703",
   "metadata": {},
   "outputs": [
    {
     "name": "stdout",
     "output_type": "stream",
     "text": [
      "accuracy of random forest model is  70.78\n"
     ]
    }
   ],
   "source": [
    "from sklearn.ensemble import RandomForestClassifier\n",
    "R=RandomForestClassifier()\n",
    "# train the model\n",
    "R.fit(x_train,y_train)\n",
    "# test the model\n",
    "y_pred_rf=R.predict(x_test)\n",
    "# find accuracy\n",
    "from sklearn.metrics import accuracy_score\n",
    "acc_rf=accuracy_score(y_test,y_pred_rf)\n",
    "acc_rf=round(acc_rf*100,2)\n",
    "print(\"accuracy of random forest model is \",acc_rf)\n"
   ]
  },
  {
   "cell_type": "code",
   "execution_count": 68,
   "id": "8708e6df-eddb-4f33-ac3f-75b575f4a9b0",
   "metadata": {},
   "outputs": [
    {
     "name": "stdout",
     "output_type": "stream",
     "text": [
      "70.78 61.69 61.69 70.78\n"
     ]
    }
   ],
   "source": [
    "print(acc_lg,acc_knn,acc_dt,acc_rf)"
   ]
  },
  {
   "cell_type": "raw",
   "id": "400fa8c5-e5bf-4db6-88aa-e973240e2cc3",
   "metadata": {},
   "source": [
    "# hence logistic regression is the best model for our project\n",
    "# we will use logistic regression for prediction of diabetes\n",
    "# for that we will make a GUI Tkinter package of python"
   ]
  },
  {
   "cell_type": "code",
   "execution_count": 69,
   "id": "87292a05-0acd-4580-93e6-5a13cbdfcb5d",
   "metadata": {},
   "outputs": [
    {
     "data": {
      "text/plain": [
       "Index(['glucose', 'bp', 'skin', 'insulin', 'bmi', 'preg', 'pedigree', 'age',\n",
       "       'class'],\n",
       "      dtype='object')"
      ]
     },
     "execution_count": 69,
     "metadata": {},
     "output_type": "execute_result"
    }
   ],
   "source": [
    "df3.columns"
   ]
  },
  {
   "cell_type": "code",
   "execution_count": null,
   "id": "13bf7511-1864-4a7f-b9f2-0bced6be936a",
   "metadata": {},
   "outputs": [],
   "source": [
    "# compare import matplotlib.pyplot as plt\n",
    "models=[\"LG\",\"KNN\",\"DT\",\"RF\"]\n",
    "accuracy=[acc_lg,acc_knn,acc_dt,acc_rf]\n",
    "plt.bar(models,accuracy,color=[\"orange\",\"green\",\"yellow\",\"blue\"])"
   ]
  },
  {
   "cell_type": "code",
   "execution_count": null,
   "id": "aec8c279-c1cd-4dd5-9dc2-a343b83f09fe",
   "metadata": {},
   "outputs": [],
   "source": []
  },
  {
   "cell_type": "code",
   "execution_count": null,
   "id": "473decd6-541d-44b4-8412-768886dd9d6c",
   "metadata": {},
   "outputs": [],
   "source": []
  },
  {
   "cell_type": "markdown",
   "id": "4b4cd195-0cf7-47bd-a05f-685bf0775bc9",
   "metadata": {},
   "source": [
    "# @@@@@@@@@@@@@@@@@@@@@#########@@@@@@@@@@@@@@@@@@@@@#"
   ]
  },
  {
   "cell_type": "markdown",
   "id": "03e483a1-d8a4-4b1d-9226-bd1067669698",
   "metadata": {},
   "source": [
    "# Devlope the GUI"
   ]
  },
  {
   "cell_type": "code",
   "execution_count": null,
   "id": "7e6a625e-9b93-4b1c-b189-fef2c0a127c2",
   "metadata": {},
   "outputs": [],
   "source": [
    "\n",
    "# load the pima data\n",
    "import warnings\n",
    "warnings.filterwarnings('ignore')\n",
    "import pandas as pd\n",
    "df=pd.read_csv(r\"C:\\Users\\HP\\Desktop\\Diabetes project\\pima.csv\",names=[\"preg\",\"glucose\",\"bp\",\"skin\",\"insulin\",\"bmi\",\"pedigree\",\"age\",\"class\"])\n",
    "\n",
    "df1=df[['glucose','bp','skin','insulin','bmi']]\n",
    "df2=df.drop(columns=['glucose','bp','skin','insulin','bmi'])\n",
    "\n",
    "# convert the zero values in df1 to NaN\n",
    "import numpy as np\n",
    "df1.replace(0,np.NaN,inplace=True)\n",
    "\n",
    "# fill the missing values by the mean value of specific column\n",
    "df1.fillna(df1.mean(),inplace=True)\n",
    "df1.isnull().sum()\n",
    "\n",
    "# concat df2 with df1 \n",
    "import pandas as pd\n",
    "df3=pd.concat([df1,df2],axis=1)\n",
    "\n",
    "# seperate input and output\n",
    "x=df3.drop(columns=['class'])\n",
    "y=df3['class']\n",
    "\n",
    "# split the data set into 2 parts. one for training and another part for testing\n",
    "from sklearn.model_selection import train_test_split\n",
    "x_train,x_test,y_train,y_test=train_test_split(x,y,test_size=0.2 ,random_state=5)\n",
    "\n",
    "\n",
    "def lg():\n",
    "    global L\n",
    "    import warnings\n",
    "    warnings.filterwarnings('ignore')\n",
    "    from sklearn.linear_model import LogisticRegression\n",
    "    L=LogisticRegression()\n",
    "    # train the model by using 80% training data\n",
    "    L.fit(x_train,y_train)\n",
    "    \n",
    "    # test the model by using testing data\n",
    "    y_pred_lg=L.predict(x_test)\n",
    "    \n",
    "    # find accuracy\n",
    "    from sklearn.metrics import accuracy_score\n",
    "    acc_lg=accuracy_score(y_test,y_pred_lg)\n",
    "    acc_lg=round(acc_lg*100,2)\n",
    "    m.showinfo(title=\"LG\",message=\"accuracy is \"+ str(acc_lg))\n",
    "    print(\"accuracy in logistic regression is \",acc_lg, \"%\")\n",
    "    \n",
    "\n",
    "def knn():\n",
    "    import warnings\n",
    "    warnings.filterwarnings('ignore')\n",
    "    from sklearn.neighbors import KNeighborsClassifier\n",
    "    K= KNeighborsClassifier(n_neighbors=5)\n",
    "    # train the model\n",
    "    K.fit(x_train,y_train)\n",
    "    # test the model\n",
    "    y_pred_knn=K.predict(x_test)\n",
    "    # find accuracy\n",
    "    from sklearn.metrics import accuracy_score\n",
    "    acc_knn=accuracy_score(y_test,y_pred_knn)\n",
    "    acc_knn=round(acc_knn*100,2)\n",
    "    m.showinfo(title=\"KNN\",message=\"accuracy is \"+ str(acc_knn))\n",
    " \n",
    "\n",
    "def dt():\n",
    "    import warnings\n",
    "    warnings.filterwarnings('ignore')\n",
    "    # apply Decission Tree model\n",
    "    from sklearn.tree import DecisionTreeClassifier\n",
    "    D= DecisionTreeClassifier\n",
    "    # train the model\n",
    "    K.fit(x_train,y_train)\n",
    "    # test the model\n",
    "    y_pred_dt=K.predict(x_test)\n",
    "    # find accuracy\n",
    "    from sklearn.metrics import accuracy_score\n",
    "    acc_dt=accuracy_score(y_test,y_pred_dt)\n",
    "    acc_dt=round(acc_dt*100,2)\n",
    "    m.showinfo(title=\"DT\",message=\"accuracy is \"+ str(acc_dt))\n",
    "    \n",
    "def rf():\n",
    "    import warnings\n",
    "    warnings.filterwarnings('ignore')\n",
    "    from sklearn.ensemble import RandomForestClassifier\n",
    "    R=RandomForestClassifier()\n",
    "    # train the model\n",
    "    R.fit(x_train,y_train)\n",
    "    # test the model\n",
    "    y_pred_rf=R.predict(x_test)\n",
    "    # find accuracy\n",
    "    from sklearn.metrics import accuracy_score\n",
    "    acc_rf=accuracy_score(y_test,y_pred_rf)\n",
    "    acc_rf=round(acc_rf*100,2)\n",
    "    m.showinfo(title=\"RF\",message=\"accuracy is \"+ str(acc_rf))\n",
    "\n",
    "def compare():\n",
    "    # compare import matplotlib.pyplot as plt\n",
    "    models=[\"LG\",\"KNN\",\"DT\",\"RF\"]\n",
    "    accuracy=[acc_lg,acc_knn,acc_dt,acc_rf]\n",
    "    plt.bar(models,accuracy,color=[\"orange\",\"green\",\"yellow\",\"blue\"])\n",
    "    plt.show()\n",
    "\n",
    "def submit():\n",
    "    glucose=float(Eglucose.get())\n",
    "    bp=float(Ebp.get())\n",
    "    skin=float(Eskin.get())\n",
    "    insulin=float(Einsulin.get())\n",
    "    bmi=float(Ebmi.get())\n",
    "    preg=float(Epreg.get())\n",
    "    pedigree=float(Epedigree.get())\n",
    "    age=float(Eage.get()) \n",
    "\n",
    "    # print result eiter 0 (no diabetes) or 1(have diabetes)\n",
    "    result=L.predict([[glucose,bp,skin,insulin,bmi,preg,pedigree,age]])\n",
    "\n",
    "    if result[0]==0:\n",
    "        msg= \"you have no Diabetes\"\n",
    "    else:\n",
    "        msg=\"you have Diabetes\"\n",
    "\n",
    "    m.showinfo(title=\"Diabetes Prediction Result\",message=msg)\n",
    "\n",
    "def reset():\n",
    "    Eglucose.delete(0,END)\n",
    "    Ebp.delete(0,END)\n",
    "    Eskin.delete(0,END)\n",
    "    Ebmi.delete(0,END)\n",
    "    Einsulin.delete(0,END)\n",
    "    Epreg.delete(0,END)\n",
    "    Epedigree.delete(0,END)\n",
    "    Eage.delete(0,END)\n",
    "   \n",
    "\n",
    "from tkinter import *\n",
    "import tkinter.messagebox as m\n",
    "w=Tk()\n",
    "w.title(\"diabetes prediction\")\n",
    "################# 1st row ###################\n",
    "L1=Label(w,text=\"Diabetes Prediction Using Machine Learning\",font=(\"arial\",20,\"bold\"),bg=\"pink\")\n",
    "L1.grid(row=1,column=1,columnspan=4)\n",
    "\n",
    "################# 2nd row ###################\n",
    "Blg=Button(w,text=\"LG\",font=(\"arial\",15,\"bold\"),command=lg)\n",
    "Bknn=Button(w,text=\"KNN\",font=(\"arial\",15,\"bold\"),command=knn)\n",
    "Bdt=Button(w,text=\"DT\",font=(\"arial\",15,\"bold\"),command=dt)\n",
    "Brf=Button(w,text=\"RF\",font=(\"arial\",15,\"bold\"),command=rf)\n",
    "Blg.grid(row=2,column=1)\n",
    "Bknn.grid(row=2,column=2)\n",
    "Bdt.grid(row=2,column=3)\n",
    "Brf.grid(row=2,column=4)\n",
    "\n",
    "################# 3rd row ###################\n",
    "Bcmp=Button(w,text=\"COMPARE\",font=(\"arial\",15,\"bold\"),command=compare)\n",
    "Bcmp.grid(row=3,column=2,columnspan=2)\n",
    "\n",
    "################# 4th row ###################\n",
    "L2=Label(w,text=\"Predict for a new person\",font=(\"arial\",20,\"bold\"),bg=\"pink\")\n",
    "L2.grid(row=4,column=1,columnspan=4)\n",
    "\n",
    "################# 5th row ###################\n",
    "Lglucose=Label(w,text=\"GLUSOSE\",font=(\"arial\",15,\"bold\"))\n",
    "Eglucose=Entry(w,font=(\"arial\",15,\"bold\"),width=10,bg=\"yellow\")\n",
    "Lbp=Label(w,text=\"Blood Pressure\",font=(\"arial\",15,\"bold\"))\n",
    "Ebp=Entry(w,font=(\"arial\",15,\"bold\"),width=10,bg=\"yellow\")\n",
    "\n",
    "Lglucose.grid(row=5,column=1)\n",
    "Eglucose.grid(row=5,column=2)\n",
    "\n",
    "Lbp.grid(row=5,column=3)\n",
    "Ebp.grid(row=5,column=4)\n",
    "\n",
    "######### 6th row ###############\n",
    "Lskin=Label(w,text=\"SKIN\",font=(\"arial\",15,\"bold\"))\n",
    "Eskin=Entry(w,font=(\"arial\",15,\"bold\"),width=10,bg=\"yellow\")\n",
    "Linsulin=Label(w,text=\"Insulin\",font=(\"arial\",15,\"bold\"))\n",
    "Einsulin=Entry(w,font=(\"arial\",15,\"bold\"),width=10,bg=\"yellow\")\n",
    "\n",
    "Lskin.grid(row=6,column=1)\n",
    "Eskin.grid(row=6,column=2)\n",
    "\n",
    "Linsulin.grid(row=6,column=3)\n",
    "Einsulin.grid(row=6,column=4)\n",
    "\n",
    "################# 7th row ###################\n",
    "Lbmi=Label(w,text=\"BMI\",font=(\"arial\",15,\"bold\"))\n",
    "Ebmi=Entry(w,font=(\"arial\",15,\"bold\"),width=10,bg=\"yellow\")\n",
    "Lpreg=Label(w,text=\"preg\",font=(\"arial\",15,\"bold\"))\n",
    "Epreg=Entry(w,font=(\"arial\",15,\"bold\"),width=10,bg=\"yellow\")\n",
    "\n",
    "Lbmi.grid(row=7,column=1)\n",
    "Ebmi.grid(row=7,column=2)\n",
    "\n",
    "Lpreg.grid(row=7,column=3)\n",
    "Epreg.grid(row=7,column=4)\n",
    "\n",
    "################# 8th row ###################\n",
    "Lpedigree=Label(w,text=\"Pedigree\",font=(\"arial\",15,\"bold\"))\n",
    "Epedigree=Entry(w,font=(\"arial\",15,\"bold\"),width=10,bg=\"yellow\")\n",
    "Lage=Label(w,text=\"Age\",font=(\"arial\",15,\"bold\"))\n",
    "Eage=Entry(w,font=(\"arial\",15,\"bold\"),width=10,bg=\"yellow\")\n",
    "\n",
    "Lpedigree.grid(row=8,column=1)\n",
    "Epedigree.grid(row=8,column=2)\n",
    "\n",
    "Lage.grid(row=8,column=3)\n",
    "Eage.grid(row=8,column=4)\n",
    "\n",
    "#################### 9th row #################\n",
    "Bsub=Button(w,text=\"SUBMIT\",font=(\"arial\",15,\"bold\"),command=submit)\n",
    "Bres=Button(w,text=\"RESET\",font=(\"arial\",15,\"bold\"),command=reset)\n",
    "Bsub.grid(row=9,column=1,columnspan=2)\n",
    "Bres.grid(row=9,column=3,columnspan=2)\n",
    "w.mainloop()"
   ]
  },
  {
   "cell_type": "code",
   "execution_count": null,
   "id": "6b2fffca-872a-468c-84c0-3e82d2f415bf",
   "metadata": {},
   "outputs": [],
   "source": []
  },
  {
   "cell_type": "code",
   "execution_count": null,
   "id": "348b85fa-ab2e-4d11-8350-cad58d50b142",
   "metadata": {},
   "outputs": [],
   "source": []
  },
  {
   "cell_type": "code",
   "execution_count": null,
   "id": "40e025d8-01d6-4e2c-9b53-37ebc4d189dc",
   "metadata": {},
   "outputs": [],
   "source": []
  },
  {
   "cell_type": "code",
   "execution_count": null,
   "id": "8e8f0ac7-a34e-4866-8075-91b21f0e1147",
   "metadata": {},
   "outputs": [],
   "source": []
  },
  {
   "cell_type": "code",
   "execution_count": null,
   "id": "641a7cf3-8842-479a-a2ff-791727cdb9ac",
   "metadata": {},
   "outputs": [],
   "source": []
  },
  {
   "cell_type": "code",
   "execution_count": null,
   "id": "f8eb8c7b-f71c-4a9e-bf92-e87a144ffa6a",
   "metadata": {},
   "outputs": [],
   "source": [
    "\n"
   ]
  }
 ],
 "metadata": {
  "kernelspec": {
   "display_name": "Python [conda env:base] *",
   "language": "python",
   "name": "conda-base-py"
  },
  "language_info": {
   "codemirror_mode": {
    "name": "ipython",
    "version": 3
   },
   "file_extension": ".py",
   "mimetype": "text/x-python",
   "name": "python",
   "nbconvert_exporter": "python",
   "pygments_lexer": "ipython3",
   "version": "3.12.7"
  }
 },
 "nbformat": 4,
 "nbformat_minor": 5
}
